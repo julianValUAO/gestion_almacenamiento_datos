{
 "cells": [
  {
   "cell_type": "code",
   "execution_count": 13,
   "id": "ba10bbf8-8aac-411e-a123-d00d98597881",
   "metadata": {},
   "outputs": [],
   "source": [
    "import pandas as pd\n",
    "import numpy as np\n",
    "import matplotlib.pyplot as plt\n",
    "import seaborn as sns\n",
    "from datetime import datetime\n",
    "import re\n",
    "import glob\n",
    "import os"
   ]
  },
  {
   "cell_type": "code",
   "execution_count": 17,
   "id": "d7d30518-1401-45fd-9853-6f6e84dc23c0",
   "metadata": {},
   "outputs": [
    {
     "name": "stdout",
     "output_type": "stream",
     "text": [
      "==================================================\n",
      "1. EXTRACCIÓN DE DATOS\n",
      "==================================================\n"
     ]
    }
   ],
   "source": [
    "print(\"=\"*50)\n",
    "print(\"1. EXTRACCIÓN DE DATOS\")\n",
    "print(\"=\"*50)"
   ]
  },
  {
   "cell_type": "code",
   "execution_count": 29,
   "id": "96790966-4c92-40fd-aa0e-c94fcedd9828",
   "metadata": {},
   "outputs": [
    {
     "name": "stdout",
     "output_type": "stream",
     "text": [
      "Archivo cargado exitosamente. Dimensiones: (1343, 19)\n"
     ]
    }
   ],
   "source": [
    "# EXTRACCION DE LOS DATOS\n",
    "# creamos la ruta de la carpeta donde vamos a almacenar los archivos Excel que se van a generar por la operacion.\n",
    "ruta = r\"C:\\Autonoma\\gestion_almacenamiento_datos\\repo_gestion_servicios\\*.xlsx\"\n",
    "\n",
    "# creamos la lista para almacenar los DataFrames\n",
    "file = []\n",
    "\n",
    "try:\n",
    "    # Buscamos y leemos todos los archivos Excel en la carpeta repositorio\n",
    "    for f in glob.glob(ruta):\n",
    "        df = pd.read_excel(f)\n",
    "        file.append(df)\n",
    "\n",
    "    # Concatenamos todos los archivos en un solo DataFrame\n",
    "    df = pd.concat(file, ignore_index=True)\n",
    "    \n",
    "    print(f\"Archivo cargado exitosamente. Dimensiones: {df.shape}\")\n",
    "\n",
    "except Exception as e:\n",
    "    print(f\"Error al cargar el archivo: {e}\")"
   ]
  },
  {
   "cell_type": "code",
   "execution_count": 33,
   "id": "0102b3fc-d7a5-49a3-b19c-f9453aa7395c",
   "metadata": {},
   "outputs": [
    {
     "name": "stdout",
     "output_type": "stream",
     "text": [
      "\n",
      "Primeras filas del DataFrame:\n",
      "   ticket_id            ticket  customer_id             Empresa  \\\n",
      "0      16917  2025021710000211    900668922  CLINICA CASTELLANA   \n",
      "1      16916  2025021710000202    900668922  CLINICA CASTELLANA   \n",
      "2      16905  2025021710000097    900668922  CLINICA CASTELLANA   \n",
      "3      16903  2025021710000079    900668922  CLINICA CASTELLANA   \n",
      "4      16900  2025021710000042    900668922  CLINICA CASTELLANA   \n",
      "\n",
      "                                          asunto  Periodo  \\\n",
      "0                        SOLICITUD DE PLATAFORMA  2025-02   \n",
      "1                               REVISIÓN TECLADO  2025-02   \n",
      "2  IMPRESORA DE JAZMIN Y HORTTENSIA NO FUNCIONAN  2025-02   \n",
      "3                                   PUNTO DE RED  2025-02   \n",
      "4                        LA IMPRESORA NO IMPRIME  2025-02   \n",
      "\n",
      "               create_time              change_time  Dias fecha_esfuerzo  \\\n",
      "0  2025-02-17 09:59:52.000  2025-02-17 09:59:52.000     0     2025-02-17   \n",
      "1  2025-02-17 09:39:20.000  2025-02-17 09:39:20.000     0     2025-02-17   \n",
      "2  2025-02-17 07:42:21.000  2025-02-17 07:42:21.000     0     2025-02-17   \n",
      "3  2025-02-17 07:35:41.000  2025-02-17 07:35:41.000     0     2025-02-17   \n",
      "4  2025-02-17 07:08:13.000  2025-02-17 08:06:50.000     0     2025-02-17   \n",
      "\n",
      "                                   cola           usuario      propietario  \\\n",
      "0  CLINICA CASTELLANA::SOPORTE SISTEMAS      BRAYAN.MUÑOZ   root@localhost   \n",
      "1  CLINICA CASTELLANA::SOPORTE SISTEMAS     AMALIA.RIVERA   root@localhost   \n",
      "2  CLINICA CASTELLANA::SOPORTE SISTEMAS      MAYRA.LOZANO   root@localhost   \n",
      "3  CLINICA CASTELLANA::SOPORTE SISTEMAS    MELANY.DELGADO   root@localhost   \n",
      "4  CLINICA CASTELLANA::SOPORTE SISTEMAS  FELIPE.VELASQUEZ  nestor.gonzalez   \n",
      "\n",
      "   cod_estado        estado_otrs  time_unidades  horas estado_final  \\\n",
      "0           1                NEW              0    0.0      ABIERTO   \n",
      "1           1                NEW              0    0.0      ABIERTO   \n",
      "2           1                NEW              0    0.0      ABIERTO   \n",
      "3           1                NEW              0    0.0      ABIERTO   \n",
      "4           2  CLOSED SUCCESSFUL              0    0.0      CERRADO   \n",
      "\n",
      "                                                 URL  \n",
      "0  https://otrs.neuromedica.co/otrs/index.pl?Acti...  \n",
      "1  https://otrs.neuromedica.co/otrs/index.pl?Acti...  \n",
      "2  https://otrs.neuromedica.co/otrs/index.pl?Acti...  \n",
      "3  https://otrs.neuromedica.co/otrs/index.pl?Acti...  \n",
      "4  https://otrs.neuromedica.co/otrs/index.pl?Acti...  \n"
     ]
    }
   ],
   "source": [
    "# Mostramos las primeras filas del DataFrame\n",
    "print(\"\\nPrimeras filas del DataFrame:\")\n",
    "print(df.head())"
   ]
  },
  {
   "cell_type": "code",
   "execution_count": 45,
   "id": "1d124a6c-e042-48b6-92db-99d28996d50c",
   "metadata": {},
   "outputs": [
    {
     "name": "stdout",
     "output_type": "stream",
     "text": [
      "==================================================\n",
      "2. PREANALISIS DESCRIPTIVO DE LOS DATOS  DATOS\n",
      "==================================================\n"
     ]
    }
   ],
   "source": [
    "# 2. PREANALISIS DESCRIPTIVO DE LOS DATOS  DATOS\n",
    "print(\"=\"*50)\n",
    "print(\"2. PREANALISIS DESCRIPTIVO DE LOS DATOS  DATOS\")\n",
    "print(\"=\"*50)"
   ]
  },
  {
   "cell_type": "code",
   "execution_count": 47,
   "id": "87fbaf3c-7fab-4e4a-9082-6f1d473521d9",
   "metadata": {},
   "outputs": [
    {
     "name": "stdout",
     "output_type": "stream",
     "text": [
      "\n",
      "Información general del DataFrame:\n",
      "<class 'pandas.core.frame.DataFrame'>\n",
      "RangeIndex: 1343 entries, 0 to 1342\n",
      "Data columns (total 19 columns):\n",
      " #   Column          Non-Null Count  Dtype         \n",
      "---  ------          --------------  -----         \n",
      " 0   ticket_id       1343 non-null   int64         \n",
      " 1   ticket          1343 non-null   int64         \n",
      " 2   customer_id     1343 non-null   int64         \n",
      " 3   Empresa         1343 non-null   object        \n",
      " 4   asunto          1343 non-null   object        \n",
      " 5   Periodo         1343 non-null   object        \n",
      " 6   create_time     1343 non-null   object        \n",
      " 7   change_time     1343 non-null   object        \n",
      " 8   Dias            1343 non-null   int64         \n",
      " 9   fecha_esfuerzo  1343 non-null   datetime64[ns]\n",
      " 10  cola            1343 non-null   object        \n",
      " 11  usuario         1343 non-null   object        \n",
      " 12  propietario     1343 non-null   object        \n",
      " 13  cod_estado      1343 non-null   int64         \n",
      " 14  estado_otrs     1343 non-null   object        \n",
      " 15  time_unidades   1343 non-null   int64         \n",
      " 16  horas           1343 non-null   float64       \n",
      " 17  estado_final    1343 non-null   object        \n",
      " 18  URL             1343 non-null   object        \n",
      "dtypes: datetime64[ns](1), float64(1), int64(6), object(11)\n",
      "memory usage: 199.5+ KB\n",
      "None\n"
     ]
    }
   ],
   "source": [
    "# Información general deL DataFrame\n",
    "print(df.info())"
   ]
  },
  {
   "cell_type": "code",
   "execution_count": 55,
   "id": "8a84a08e-4ca8-4053-a2db-475a94d77a04",
   "metadata": {},
   "outputs": [
    {
     "name": "stdout",
     "output_type": "stream",
     "text": [
      "\n",
      "Estadísticas descriptivas de variables numéricas:\n",
      "          ticket_id        ticket  customer_id         Dias  \\\n",
      "count   1343.000000  1.343000e+03       1343.0  1343.000000   \n",
      "mean   14428.881608  2.024437e+15  900668922.0     7.345495   \n",
      "min    10125.000000  2.024072e+15  900668922.0     0.000000   \n",
      "25%    13420.500000  2.024112e+15  900668922.0     0.000000   \n",
      "50%    14229.000000  2.024121e+15  900668922.0     0.000000   \n",
      "75%    15556.500000  2.025012e+15  900668922.0     6.000000   \n",
      "max    16917.000000  2.025022e+15  900668922.0   102.000000   \n",
      "std     1313.744976  4.326518e+11          0.0    15.227869   \n",
      "\n",
      "                      fecha_esfuerzo   cod_estado  time_unidades        horas  \n",
      "count                           1343  1343.000000    1343.000000  1343.000000  \n",
      "mean   2024-12-22 18:13:40.253164544     2.197319     186.785555     3.113094  \n",
      "min              2024-07-18 00:00:00     1.000000       0.000000     0.000000  \n",
      "25%              2024-11-27 00:00:00     2.000000       0.000000     0.000000  \n",
      "50%              2024-12-23 00:00:00     2.000000       5.000000     0.083333  \n",
      "75%              2025-01-22 00:00:00     2.000000      20.000000     0.333333  \n",
      "max              2025-02-17 00:00:00     9.000000   90481.000000  1508.018333  \n",
      "std                              NaN     1.100302    3111.896100    51.864971  \n"
     ]
    }
   ],
   "source": [
    "# Descripción estadística de las variables numéricas\n",
    "print(\"\\nEstadísticas descriptivas de variables numéricas:\")\n",
    "print(df.describe())"
   ]
  },
  {
   "cell_type": "code",
   "execution_count": 59,
   "id": "1f16e017-44aa-47e2-9c37-6b02c64f4319",
   "metadata": {},
   "outputs": [
    {
     "name": "stdout",
     "output_type": "stream",
     "text": [
      "ticket_id         0\n",
      "ticket            0\n",
      "customer_id       0\n",
      "Empresa           0\n",
      "asunto            0\n",
      "Periodo           0\n",
      "create_time       0\n",
      "change_time       0\n",
      "Dias              0\n",
      "fecha_esfuerzo    0\n",
      "cola              0\n",
      "usuario           0\n",
      "propietario       0\n",
      "cod_estado        0\n",
      "estado_otrs       0\n",
      "time_unidades     0\n",
      "horas             0\n",
      "estado_final      0\n",
      "URL               0\n",
      "dtype: int64\n"
     ]
    }
   ],
   "source": [
    "# Verificamos valores nulos\n",
    "print(df.isnull().sum())"
   ]
  },
  {
   "cell_type": "code",
   "execution_count": 61,
   "id": "6db01add-ab60-4998-9f19-379aeff9d8f0",
   "metadata": {},
   "outputs": [
    {
     "name": "stdout",
     "output_type": "stream",
     "text": [
      "\n",
      "Estados únicos en estado_final:\n",
      "estado_final\n",
      "CERRADO    1237\n",
      "ABIERTO     106\n",
      "Name: count, dtype: int64\n"
     ]
    }
   ],
   "source": [
    "print(\"\\nConteo total de casos abiertos y cerrados:\")\n",
    "print(df[\"estado_final\"].value_counts())"
   ]
  },
  {
   "cell_type": "code",
   "execution_count": 63,
   "id": "46e97414-7cbc-47b1-b1d6-85f29985ff99",
   "metadata": {},
   "outputs": [
    {
     "name": "stdout",
     "output_type": "stream",
     "text": [
      "\n",
      "Distribución de 'Dias':\n"
     ]
    },
    {
     "data": {
      "image/png": "[encoded data removed]",
      "text/plain": [
       "<Figure size 640x480 with 1 Axes>"
      ]
     },
     "metadata": {},
     "output_type": "display_data"
    }
   ],
   "source": [
    "print(\"\\nDistribución de 'Dias':\")\n",
    "plt.hist(df[\"Dias\"].dropna(), bins=20, edgecolor='black')\n",
    "plt.xlabel(\"Días\")\n",
    "plt.ylabel(\"Frecuencia\")\n",
    "plt.title(\"Distribución de Días por Ticket\")\n",
    "plt.show()"
   ]
  },
  {
   "cell_type": "code",
   "execution_count": 71,
   "id": "a58e6de6-48e0-4b73-bb8c-e2f14e9e21e5",
   "metadata": {},
   "outputs": [
    {
     "name": "stdout",
     "output_type": "stream",
     "text": [
      "\n",
      "Correlación entre variables numéricas:\n",
      "               ticket_id    ticket  customer_id      Dias  cod_estado  \\\n",
      "ticket_id       1.000000  0.860138          NaN -0.244968   -0.019295   \n",
      "ticket          0.860138  1.000000          NaN -0.285209   -0.003608   \n",
      "customer_id          NaN       NaN          NaN       NaN         NaN   \n",
      "Dias           -0.244968 -0.285209          NaN  1.000000    0.080827   \n",
      "cod_estado     -0.019295 -0.003608          NaN  0.080827    1.000000   \n",
      "time_unidades  -0.051658 -0.041185          NaN  0.142078   -0.010429   \n",
      "horas          -0.051658 -0.041185          NaN  0.142078   -0.010429   \n",
      "\n",
      "               time_unidades     horas  \n",
      "ticket_id          -0.051658 -0.051658  \n",
      "ticket             -0.041185 -0.041185  \n",
      "customer_id              NaN       NaN  \n",
      "Dias                0.142078  0.142078  \n",
      "cod_estado         -0.010429 -0.010429  \n",
      "time_unidades       1.000000  1.000000  \n",
      "horas               1.000000  1.000000  \n"
     ]
    }
   ],
   "source": [
    "print(\"\\nCorrelación entre variables numéricas:\")\n",
    "print(df.corr(numeric_only=True))"
   ]
  },
  {
   "cell_type": "code",
   "execution_count": 83,
   "id": "3df25298-420a-479d-92ff-2594fb6ff59a",
   "metadata": {},
   "outputs": [
    {
     "name": "stdout",
     "output_type": "stream",
     "text": [
      "==================================================\n",
      "3. LIMPIEZA DE DATOS\n",
      "==================================================\n"
     ]
    }
   ],
   "source": [
    "print(\"=\"*50)\n",
    "print(\"3. LIMPIEZA DE DATOS\")\n",
    "print(\"=\"*50)"
   ]
  },
  {
   "cell_type": "code",
   "execution_count": 85,
   "id": "c170f4d3-f90e-467d-97a9-66c1fca74ea2",
   "metadata": {},
   "outputs": [],
   "source": [
    "# sacamos una copia del DataFrame original \n",
    "df_depurado = df.copy()"
   ]
  },
  {
   "cell_type": "code",
   "execution_count": 87,
   "id": "843e17ff-ab68-41fb-8d8e-2504fd939a53",
   "metadata": {},
   "outputs": [
    {
     "name": "stdout",
     "output_type": "stream",
     "text": [
      "Conversión de fechas completada.\n"
     ]
    }
   ],
   "source": [
    "# Convertimos fechas a formato datetime\n",
    "try:\n",
    "    df_depurado['create_time'] = pd.to_datetime(df_depurado['create_time'])\n",
    "    df_depurado['change_time'] = pd.to_datetime(df_depurado['change_time'])\n",
    "    \n",
    "    # Convertir fecha_esfuerzo al formato datetime\n",
    "    df_depurado['fecha_esfuerzo'] = pd.to_datetime(df_depurado['fecha_esfuerzo'], format='%d/%m/%Y')\n",
    "    \n",
    "    print(\"Conversión de fechas completada.\")\n",
    "except Exception as e:\n",
    "    print(f\"Error al convertir fechas: {e}\")"
   ]
  },
  {
   "cell_type": "code",
   "execution_count": 89,
   "id": "d27d2b3d-c8fe-4e27-9967-ffff0e40cad1",
   "metadata": {},
   "outputs": [
    {
     "data": {
      "text/html": [
       "<div>\n",
       "<style scoped>\n",
       "    .dataframe tbody tr th:only-of-type {\n",
       "        vertical-align: middle;\n",
       "    }\n",
       "\n",
       "    .dataframe tbody tr th {\n",
       "        vertical-align: top;\n",
       "    }\n",
       "\n",
       "    .dataframe thead th {\n",
       "        text-align: right;\n",
       "    }\n",
       "</style>\n",
       "<table border=\"1\" class=\"dataframe\">\n",
       "  <thead>\n",
       "    <tr style=\"text-align: right;\">\n",
       "      <th></th>\n",
       "      <th>ticket_id</th>\n",
       "      <th>ticket</th>\n",
       "      <th>customer_id</th>\n",
       "      <th>Empresa</th>\n",
       "      <th>asunto</th>\n",
       "      <th>Periodo</th>\n",
       "      <th>create_time</th>\n",
       "      <th>change_time</th>\n",
       "      <th>Dias</th>\n",
       "      <th>fecha_esfuerzo</th>\n",
       "      <th>cola</th>\n",
       "      <th>usuario</th>\n",
       "      <th>propietario</th>\n",
       "      <th>cod_estado</th>\n",
       "      <th>estado_otrs</th>\n",
       "      <th>time_unidades</th>\n",
       "      <th>horas</th>\n",
       "      <th>estado_final</th>\n",
       "      <th>URL</th>\n",
       "    </tr>\n",
       "  </thead>\n",
       "  <tbody>\n",
       "    <tr>\n",
       "      <th>0</th>\n",
       "      <td>16917</td>\n",
       "      <td>2025021710000211</td>\n",
       "      <td>900668922</td>\n",
       "      <td>CLINICA CASTELLANA</td>\n",
       "      <td>SOLICITUD DE PLATAFORMA</td>\n",
       "      <td>2025-02</td>\n",
       "      <td>2025-02-17 09:59:52</td>\n",
       "      <td>2025-02-17 09:59:52</td>\n",
       "      <td>0</td>\n",
       "      <td>2025-02-17</td>\n",
       "      <td>CLINICA CASTELLANA::SOPORTE SISTEMAS</td>\n",
       "      <td>BRAYAN.MUÑOZ</td>\n",
       "      <td>root@localhost</td>\n",
       "      <td>1</td>\n",
       "      <td>NEW</td>\n",
       "      <td>0</td>\n",
       "      <td>0.000000</td>\n",
       "      <td>ABIERTO</td>\n",
       "      <td>https://otrs.neuromedica.co/otrs/index.pl?Acti...</td>\n",
       "    </tr>\n",
       "    <tr>\n",
       "      <th>1</th>\n",
       "      <td>16916</td>\n",
       "      <td>2025021710000202</td>\n",
       "      <td>900668922</td>\n",
       "      <td>CLINICA CASTELLANA</td>\n",
       "      <td>REVISIÓN TECLADO</td>\n",
       "      <td>2025-02</td>\n",
       "      <td>2025-02-17 09:39:20</td>\n",
       "      <td>2025-02-17 09:39:20</td>\n",
       "      <td>0</td>\n",
       "      <td>2025-02-17</td>\n",
       "      <td>CLINICA CASTELLANA::SOPORTE SISTEMAS</td>\n",
       "      <td>AMALIA.RIVERA</td>\n",
       "      <td>root@localhost</td>\n",
       "      <td>1</td>\n",
       "      <td>NEW</td>\n",
       "      <td>0</td>\n",
       "      <td>0.000000</td>\n",
       "      <td>ABIERTO</td>\n",
       "      <td>https://otrs.neuromedica.co/otrs/index.pl?Acti...</td>\n",
       "    </tr>\n",
       "    <tr>\n",
       "      <th>2</th>\n",
       "      <td>16905</td>\n",
       "      <td>2025021710000097</td>\n",
       "      <td>900668922</td>\n",
       "      <td>CLINICA CASTELLANA</td>\n",
       "      <td>IMPRESORA DE JAZMIN Y HORTTENSIA NO FUNCIONAN</td>\n",
       "      <td>2025-02</td>\n",
       "      <td>2025-02-17 07:42:21</td>\n",
       "      <td>2025-02-17 07:42:21</td>\n",
       "      <td>0</td>\n",
       "      <td>2025-02-17</td>\n",
       "      <td>CLINICA CASTELLANA::SOPORTE SISTEMAS</td>\n",
       "      <td>MAYRA.LOZANO</td>\n",
       "      <td>root@localhost</td>\n",
       "      <td>1</td>\n",
       "      <td>NEW</td>\n",
       "      <td>0</td>\n",
       "      <td>0.000000</td>\n",
       "      <td>ABIERTO</td>\n",
       "      <td>https://otrs.neuromedica.co/otrs/index.pl?Acti...</td>\n",
       "    </tr>\n",
       "    <tr>\n",
       "      <th>3</th>\n",
       "      <td>16903</td>\n",
       "      <td>2025021710000079</td>\n",
       "      <td>900668922</td>\n",
       "      <td>CLINICA CASTELLANA</td>\n",
       "      <td>PUNTO DE RED</td>\n",
       "      <td>2025-02</td>\n",
       "      <td>2025-02-17 07:35:41</td>\n",
       "      <td>2025-02-17 07:35:41</td>\n",
       "      <td>0</td>\n",
       "      <td>2025-02-17</td>\n",
       "      <td>CLINICA CASTELLANA::SOPORTE SISTEMAS</td>\n",
       "      <td>MELANY.DELGADO</td>\n",
       "      <td>root@localhost</td>\n",
       "      <td>1</td>\n",
       "      <td>NEW</td>\n",
       "      <td>0</td>\n",
       "      <td>0.000000</td>\n",
       "      <td>ABIERTO</td>\n",
       "      <td>https://otrs.neuromedica.co/otrs/index.pl?Acti...</td>\n",
       "    </tr>\n",
       "    <tr>\n",
       "      <th>4</th>\n",
       "      <td>16900</td>\n",
       "      <td>2025021710000042</td>\n",
       "      <td>900668922</td>\n",
       "      <td>CLINICA CASTELLANA</td>\n",
       "      <td>LA IMPRESORA NO IMPRIME</td>\n",
       "      <td>2025-02</td>\n",
       "      <td>2025-02-17 07:08:13</td>\n",
       "      <td>2025-02-17 08:06:50</td>\n",
       "      <td>0</td>\n",
       "      <td>2025-02-17</td>\n",
       "      <td>CLINICA CASTELLANA::SOPORTE SISTEMAS</td>\n",
       "      <td>FELIPE.VELASQUEZ</td>\n",
       "      <td>nestor.gonzalez</td>\n",
       "      <td>2</td>\n",
       "      <td>CLOSED SUCCESSFUL</td>\n",
       "      <td>0</td>\n",
       "      <td>0.000000</td>\n",
       "      <td>CERRADO</td>\n",
       "      <td>https://otrs.neuromedica.co/otrs/index.pl?Acti...</td>\n",
       "    </tr>\n",
       "    <tr>\n",
       "      <th>...</th>\n",
       "      <td>...</td>\n",
       "      <td>...</td>\n",
       "      <td>...</td>\n",
       "      <td>...</td>\n",
       "      <td>...</td>\n",
       "      <td>...</td>\n",
       "      <td>...</td>\n",
       "      <td>...</td>\n",
       "      <td>...</td>\n",
       "      <td>...</td>\n",
       "      <td>...</td>\n",
       "      <td>...</td>\n",
       "      <td>...</td>\n",
       "      <td>...</td>\n",
       "      <td>...</td>\n",
       "      <td>...</td>\n",
       "      <td>...</td>\n",
       "      <td>...</td>\n",
       "      <td>...</td>\n",
       "    </tr>\n",
       "    <tr>\n",
       "      <th>1338</th>\n",
       "      <td>11918</td>\n",
       "      <td>2024100410000197</td>\n",
       "      <td>900668922</td>\n",
       "      <td>CLINICA CASTELLANA</td>\n",
       "      <td>PRUEBA 2</td>\n",
       "      <td>2024-10</td>\n",
       "      <td>2024-10-04 15:25:11</td>\n",
       "      <td>2024-10-04 15:26:07</td>\n",
       "      <td>0</td>\n",
       "      <td>2024-10-04</td>\n",
       "      <td>CLINICA CASTELLANA::SOPORTE SISTEMAS</td>\n",
       "      <td>JAQUELINE.YACUMAL</td>\n",
       "      <td>jhon.ramirez</td>\n",
       "      <td>9</td>\n",
       "      <td>MERGED</td>\n",
       "      <td>0</td>\n",
       "      <td>0.000000</td>\n",
       "      <td>CERRADO</td>\n",
       "      <td>https://otrs.neuromedica.co/otrs/index.pl?Acti...</td>\n",
       "    </tr>\n",
       "    <tr>\n",
       "      <th>1339</th>\n",
       "      <td>11917</td>\n",
       "      <td>2024100410000188</td>\n",
       "      <td>900668922</td>\n",
       "      <td>CLINICA CASTELLANA</td>\n",
       "      <td>PC NO ENCIENDE</td>\n",
       "      <td>2024-10</td>\n",
       "      <td>2024-10-04 15:13:56</td>\n",
       "      <td>2024-10-07 07:54:35</td>\n",
       "      <td>3</td>\n",
       "      <td>2024-10-07</td>\n",
       "      <td>CLINICA CASTELLANA::SOPORTE SISTEMAS</td>\n",
       "      <td>JAQUELINE.YACUMAL</td>\n",
       "      <td>jhon.ramirez</td>\n",
       "      <td>2</td>\n",
       "      <td>CLOSED SUCCESSFUL</td>\n",
       "      <td>3</td>\n",
       "      <td>0.050000</td>\n",
       "      <td>CERRADO</td>\n",
       "      <td>https://otrs.neuromedica.co/otrs/index.pl?Acti...</td>\n",
       "    </tr>\n",
       "    <tr>\n",
       "      <th>1340</th>\n",
       "      <td>10257</td>\n",
       "      <td>2024072310000425</td>\n",
       "      <td>900668922</td>\n",
       "      <td>CLINICA CASTELLANA</td>\n",
       "      <td>ERROR NEURONET AL CARGAR ARCHIVO</td>\n",
       "      <td>2024-07</td>\n",
       "      <td>2024-07-23 17:19:25</td>\n",
       "      <td>2024-07-25 08:39:10</td>\n",
       "      <td>2</td>\n",
       "      <td>2024-07-25</td>\n",
       "      <td>TECNOLOGIA::INCIDENTE APLICATIVOS (NEURO Y NEU...</td>\n",
       "      <td>JHON.RAMIREZ</td>\n",
       "      <td>gladys.sierra</td>\n",
       "      <td>2</td>\n",
       "      <td>CLOSED SUCCESSFUL</td>\n",
       "      <td>20</td>\n",
       "      <td>0.333333</td>\n",
       "      <td>CERRADO</td>\n",
       "      <td>https://otrs.neuromedica.co/otrs/index.pl?Acti...</td>\n",
       "    </tr>\n",
       "    <tr>\n",
       "      <th>1341</th>\n",
       "      <td>10129</td>\n",
       "      <td>2024071810000097</td>\n",
       "      <td>900668922</td>\n",
       "      <td>CLINICA CASTELLANA</td>\n",
       "      <td>APOYO INSTALACIÓN VPN CASTELLANA SUBGERENTE FI...</td>\n",
       "      <td>2024-07</td>\n",
       "      <td>2024-07-18 09:42:00</td>\n",
       "      <td>2024-07-18 19:12:59</td>\n",
       "      <td>0</td>\n",
       "      <td>2024-07-18</td>\n",
       "      <td>SOPORTE TECNICO::INSTALACIÓN DE SOFTWARE</td>\n",
       "      <td>JHON.RAMIREZ</td>\n",
       "      <td>jesus.hernandez</td>\n",
       "      <td>2</td>\n",
       "      <td>CLOSED SUCCESSFUL</td>\n",
       "      <td>210</td>\n",
       "      <td>3.500000</td>\n",
       "      <td>CERRADO</td>\n",
       "      <td>https://otrs.neuromedica.co/otrs/index.pl?Acti...</td>\n",
       "    </tr>\n",
       "    <tr>\n",
       "      <th>1342</th>\n",
       "      <td>10125</td>\n",
       "      <td>2024071810000051</td>\n",
       "      <td>900668922</td>\n",
       "      <td>CLINICA CASTELLANA</td>\n",
       "      <td>APOYO INSTALACIÓN VPN CASTELLANA</td>\n",
       "      <td>2024-07</td>\n",
       "      <td>2024-07-18 08:49:05</td>\n",
       "      <td>2024-07-18 19:07:40</td>\n",
       "      <td>0</td>\n",
       "      <td>2024-07-18</td>\n",
       "      <td>SOPORTE TECNICO::INSTALACIÓN DE SOFTWARE</td>\n",
       "      <td>JHON.RAMIREZ</td>\n",
       "      <td>jesus.hernandez</td>\n",
       "      <td>9</td>\n",
       "      <td>MERGED</td>\n",
       "      <td>0</td>\n",
       "      <td>0.000000</td>\n",
       "      <td>CERRADO</td>\n",
       "      <td>https://otrs.neuromedica.co/otrs/index.pl?Acti...</td>\n",
       "    </tr>\n",
       "  </tbody>\n",
       "</table>\n",
       "<p>1343 rows × 19 columns</p>\n",
       "</div>"
      ],
      "text/plain": [
       "      ticket_id            ticket  customer_id             Empresa  \\\n",
       "0         16917  2025021710000211    900668922  CLINICA CASTELLANA   \n",
       "1         16916  2025021710000202    900668922  CLINICA CASTELLANA   \n",
       "2         16905  2025021710000097    900668922  CLINICA CASTELLANA   \n",
       "3         16903  2025021710000079    900668922  CLINICA CASTELLANA   \n",
       "4         16900  2025021710000042    900668922  CLINICA CASTELLANA   \n",
       "...         ...               ...          ...                 ...   \n",
       "1338      11918  2024100410000197    900668922  CLINICA CASTELLANA   \n",
       "1339      11917  2024100410000188    900668922  CLINICA CASTELLANA   \n",
       "1340      10257  2024072310000425    900668922  CLINICA CASTELLANA   \n",
       "1341      10129  2024071810000097    900668922  CLINICA CASTELLANA   \n",
       "1342      10125  2024071810000051    900668922  CLINICA CASTELLANA   \n",
       "\n",
       "                                                 asunto  Periodo  \\\n",
       "0                               SOLICITUD DE PLATAFORMA  2025-02   \n",
       "1                                      REVISIÓN TECLADO  2025-02   \n",
       "2         IMPRESORA DE JAZMIN Y HORTTENSIA NO FUNCIONAN  2025-02   \n",
       "3                                          PUNTO DE RED  2025-02   \n",
       "4                               LA IMPRESORA NO IMPRIME  2025-02   \n",
       "...                                                 ...      ...   \n",
       "1338                                           PRUEBA 2  2024-10   \n",
       "1339                                     PC NO ENCIENDE  2024-10   \n",
       "1340                   ERROR NEURONET AL CARGAR ARCHIVO  2024-07   \n",
       "1341  APOYO INSTALACIÓN VPN CASTELLANA SUBGERENTE FI...  2024-07   \n",
       "1342                   APOYO INSTALACIÓN VPN CASTELLANA  2024-07   \n",
       "\n",
       "             create_time         change_time  Dias fecha_esfuerzo  \\\n",
       "0    2025-02-17 09:59:52 2025-02-17 09:59:52     0     2025-02-17   \n",
       "1    2025-02-17 09:39:20 2025-02-17 09:39:20     0     2025-02-17   \n",
       "2    2025-02-17 07:42:21 2025-02-17 07:42:21     0     2025-02-17   \n",
       "3    2025-02-17 07:35:41 2025-02-17 07:35:41     0     2025-02-17   \n",
       "4    2025-02-17 07:08:13 2025-02-17 08:06:50     0     2025-02-17   \n",
       "...                  ...                 ...   ...            ...   \n",
       "1338 2024-10-04 15:25:11 2024-10-04 15:26:07     0     2024-10-04   \n",
       "1339 2024-10-04 15:13:56 2024-10-07 07:54:35     3     2024-10-07   \n",
       "1340 2024-07-23 17:19:25 2024-07-25 08:39:10     2     2024-07-25   \n",
       "1341 2024-07-18 09:42:00 2024-07-18 19:12:59     0     2024-07-18   \n",
       "1342 2024-07-18 08:49:05 2024-07-18 19:07:40     0     2024-07-18   \n",
       "\n",
       "                                                   cola            usuario  \\\n",
       "0                  CLINICA CASTELLANA::SOPORTE SISTEMAS       BRAYAN.MUÑOZ   \n",
       "1                  CLINICA CASTELLANA::SOPORTE SISTEMAS      AMALIA.RIVERA   \n",
       "2                  CLINICA CASTELLANA::SOPORTE SISTEMAS       MAYRA.LOZANO   \n",
       "3                  CLINICA CASTELLANA::SOPORTE SISTEMAS     MELANY.DELGADO   \n",
       "4                  CLINICA CASTELLANA::SOPORTE SISTEMAS   FELIPE.VELASQUEZ   \n",
       "...                                                 ...                ...   \n",
       "1338               CLINICA CASTELLANA::SOPORTE SISTEMAS  JAQUELINE.YACUMAL   \n",
       "1339               CLINICA CASTELLANA::SOPORTE SISTEMAS  JAQUELINE.YACUMAL   \n",
       "1340  TECNOLOGIA::INCIDENTE APLICATIVOS (NEURO Y NEU...       JHON.RAMIREZ   \n",
       "1341           SOPORTE TECNICO::INSTALACIÓN DE SOFTWARE       JHON.RAMIREZ   \n",
       "1342           SOPORTE TECNICO::INSTALACIÓN DE SOFTWARE       JHON.RAMIREZ   \n",
       "\n",
       "          propietario  cod_estado        estado_otrs  time_unidades     horas  \\\n",
       "0      root@localhost           1                NEW              0  0.000000   \n",
       "1      root@localhost           1                NEW              0  0.000000   \n",
       "2      root@localhost           1                NEW              0  0.000000   \n",
       "3      root@localhost           1                NEW              0  0.000000   \n",
       "4     nestor.gonzalez           2  CLOSED SUCCESSFUL              0  0.000000   \n",
       "...               ...         ...                ...            ...       ...   \n",
       "1338     jhon.ramirez           9             MERGED              0  0.000000   \n",
       "1339     jhon.ramirez           2  CLOSED SUCCESSFUL              3  0.050000   \n",
       "1340    gladys.sierra           2  CLOSED SUCCESSFUL             20  0.333333   \n",
       "1341  jesus.hernandez           2  CLOSED SUCCESSFUL            210  3.500000   \n",
       "1342  jesus.hernandez           9             MERGED              0  0.000000   \n",
       "\n",
       "     estado_final                                                URL  \n",
       "0         ABIERTO  https://otrs.neuromedica.co/otrs/index.pl?Acti...  \n",
       "1         ABIERTO  https://otrs.neuromedica.co/otrs/index.pl?Acti...  \n",
       "2         ABIERTO  https://otrs.neuromedica.co/otrs/index.pl?Acti...  \n",
       "3         ABIERTO  https://otrs.neuromedica.co/otrs/index.pl?Acti...  \n",
       "4         CERRADO  https://otrs.neuromedica.co/otrs/index.pl?Acti...  \n",
       "...           ...                                                ...  \n",
       "1338      CERRADO  https://otrs.neuromedica.co/otrs/index.pl?Acti...  \n",
       "1339      CERRADO  https://otrs.neuromedica.co/otrs/index.pl?Acti...  \n",
       "1340      CERRADO  https://otrs.neuromedica.co/otrs/index.pl?Acti...  \n",
       "1341      CERRADO  https://otrs.neuromedica.co/otrs/index.pl?Acti...  \n",
       "1342      CERRADO  https://otrs.neuromedica.co/otrs/index.pl?Acti...  \n",
       "\n",
       "[1343 rows x 19 columns]"
      ]
     },
     "execution_count": 89,
     "metadata": {},
     "output_type": "execute_result"
    }
   ],
   "source": [
    "df_depurado"
   ]
  },
  {
   "cell_type": "code",
   "execution_count": 91,
   "id": "0d76e89b-263b-4e23-9f26-ab330f2f7827",
   "metadata": {},
   "outputs": [],
   "source": [
    "# Eliminamos duplicados\n",
    "df_depurado = df_depurado.drop_duplicates()"
   ]
  },
  {
   "cell_type": "code",
   "execution_count": 93,
   "id": "7d52aed5-0e34-4d45-a6ef-0e0d9b02dde6",
   "metadata": {},
   "outputs": [],
   "source": [
    "# Rellenamos valores nulos en 'Dias' y 'horas' con la media\n",
    "df_depurado[\"Dias\"].fillna(df_depurado[\"Dias\"].mean(), inplace=True)\n",
    "df_depurado[\"horas\"].fillna(df_depurado[\"horas\"].mean(), inplace=True)"
   ]
  },
  {
   "cell_type": "code",
   "execution_count": 95,
   "id": "b0a492ed-a9ca-438a-83df-830880b3b9f9",
   "metadata": {},
   "outputs": [],
   "source": [
    "# Eliminamos registros con valores nulos en columnas clave\n",
    "df_depurado.dropna(subset=[\"create_time\", \"change_time\", \"estado_final\"], inplace=True)"
   ]
  },
  {
   "cell_type": "code",
   "execution_count": 97,
   "id": "7fb4123c-35ea-4675-89a5-aa0617051f82",
   "metadata": {},
   "outputs": [
    {
     "name": "stdout",
     "output_type": "stream",
     "text": [
      "\n",
      "Limpiando textos...\n"
     ]
    }
   ],
   "source": [
    "#Limpiar textos (eliminar espacios, convertir a mayúsculas o minúsculas según sea necesario)\n",
    "print(\"\\nLimpiando textos...\")\n",
    "columnas_texto = df_depurado.select_dtypes(include=['object']).columns\n",
    "for col in columnas_texto:\n",
    "    df_depurado[col] = df_depurado[col].str.strip() if df_depurado[col].dtype == 'object' else df_depurado[col]\n"
   ]
  },
  {
   "cell_type": "code",
   "execution_count": 99,
   "id": "2be7a578-71dc-4a39-9878-a4ff2423b3aa",
   "metadata": {},
   "outputs": [
    {
     "name": "stdout",
     "output_type": "stream",
     "text": [
      "\n",
      "Extrayendo información de URLs...\n",
      "IDs de ticket que coinciden con la URL: 1343 de 1343\n"
     ]
    }
   ],
   "source": [
    "#Extraer información útil de URLs\n",
    "print(\"\\nExtrayendo información de URLs...\")\n",
    "try:\n",
    "    # Extraer ID del ticket de la URL\n",
    "    df_depurado['ticket_id_from_url'] = df_depurado['URL'].str.extract(r'TicketID=(\\d+)')\n",
    "    \n",
    "    # Verificar si el ID extraído coincide con el ticket_id\n",
    "    coincidencias = (df_depurado['ticket_id'].astype(str) == df_depurado['ticket_id_from_url']).sum()\n",
    "    print(f\"IDs de ticket que coinciden con la URL: {coincidencias} de {df_depurado.shape[0]}\")\n",
    "except Exception as e:\n",
    "    print(f\"Error al extraer información de URLs: {e}\")"
   ]
  },
  {
   "cell_type": "code",
   "execution_count": 101,
   "id": "e38a3d16-b711-4940-8626-a8107babf141",
   "metadata": {},
   "outputs": [
    {
     "name": "stdout",
     "output_type": "stream",
     "text": [
      "\n",
      "Completando valores faltantes...\n"
     ]
    }
   ],
   "source": [
    "#Completamos los valores faltantes si los hay\n",
    "print(\"\\nCompletando valores faltantes...\")\n",
    "\n",
    "if df_depurado.isnull().sum().sum() > 0:\n",
    "    # Completamos valores numéricos con la media o mediana\n",
    "    for col in df_depurado.select_dtypes(include=['number']).columns:\n",
    "        if df_depurado[col].isnull().sum() > 0:\n",
    "            df_depurado[col].fillna(df_depurado[col].median(), inplace=True)\n",
    "    \n",
    "    # Completamos valores categóricos con el valor más frecuente\n",
    "    for col in df_depurado.select_dtypes(include=['object']).columns:\n",
    "        if df_depurado[col].isnull().sum() > 0:\n",
    "            df_depurado[col].fillna(df_depurado[col].mode()[0], inplace=True)"
   ]
  },
  {
   "cell_type": "code",
   "execution_count": 103,
   "id": "35d737c6-e772-4068-98e5-c4c7f9d03f1b",
   "metadata": {},
   "outputs": [
    {
     "name": "stdout",
     "output_type": "stream",
     "text": [
      "Tickets con create_time posterior a change_time: 0\n"
     ]
    }
   ],
   "source": [
    "# Verificar que create_time no sea posterior a change_time\n",
    "inconsistencias_tiempo = (df_depurado['create_time'] > df_depurado['change_time']).sum()\n",
    "print(f\"Tickets con create_time posterior a change_time: {inconsistencias_tiempo}\")"
   ]
  },
  {
   "cell_type": "code",
   "execution_count": 105,
   "id": "003a35ac-31d4-418c-bbbf-aef72c3907d3",
   "metadata": {},
   "outputs": [
    {
     "name": "stdout",
     "output_type": "stream",
     "text": [
      "\n",
      "Verificando inconsistencias...\n",
      "Tabla de estados y códigos:\n",
      "           estado_otrs  cod_estado  count\n",
      "0    CLOSED SUCCESSFUL           2   1199\n",
      "1  CLOSED UNSUCCESSFUL           3     13\n",
      "2               MERGED           9     25\n",
      "3                  NEW           1     55\n",
      "4                 OPEN           4     36\n",
      "5     PENDING REMINDER           6     15\n"
     ]
    }
   ],
   "source": [
    "print(\"\\nVerificando inconsistencias...\")\n",
    "# Verificamos que todos los estados_otrs tengan un cod_estado correspondiente\n",
    "estados_unicos = df_depurado.groupby(['estado_otrs', 'cod_estado']).size().reset_index(name='count')\n",
    "print(\"Tabla de estados y códigos:\")\n",
    "print(estados_unicos)"
   ]
  },
  {
   "cell_type": "code",
   "execution_count": 109,
   "id": "aada64a5-de50-4b11-9b3b-5c153bcb05c5",
   "metadata": {},
   "outputs": [
    {
     "name": "stdout",
     "output_type": "stream",
     "text": [
      "==================================================\n",
      "4. PREPARACIÓN DE DATOS (FEATURE ENGINEERING)\n",
      "==================================================\n"
     ]
    }
   ],
   "source": [
    "print(\"=\"*50)\n",
    "print(\"4. PREPARACIÓN DE DATOS (FEATURE ENGINEERING)\")\n",
    "print(\"=\"*50)"
   ]
  },
  {
   "cell_type": "code",
   "execution_count": 111,
   "id": "cbfaaf0c-71c6-477e-aae0-17712c3b9246",
   "metadata": {},
   "outputs": [],
   "source": [
    "# Calcular tiempo de respuesta en minutos\n",
    "df_depurado['tiempo_respuesta_minutos'] = (df_depurado['change_time'] - df_depurado['create_time']).dt.total_seconds() / 60"
   ]
  },
  {
   "cell_type": "code",
   "execution_count": 117,
   "id": "70203a4b-8997-4f53-8312-1b677dd1f512",
   "metadata": {},
   "outputs": [],
   "source": [
    "# Categorizar tickets por tipo de asunto\n",
    "df_depurado['categoria_asunto'] = 'Otros'\n",
    "# Ejemplo de categorización - ajustar según los datos reales\n",
    "df_depurado.loc[df_depurado['asunto'].str.contains('SOLICITUD|PETICIÓN', case=False, na=False), 'categoria_asunto'] = 'Solicitud'\n",
    "df_depurado.loc[df_depurado['asunto'].str.contains('REVISIÓN|REVISAR', case=False, na=False), 'categoria_asunto'] = 'Revisión'\n",
    "df_depurado.loc[df_depurado['asunto'].str.contains('ERROR|FALLO|PROBLEMA', case=False, na=False), 'categoria_asunto'] = 'Error'\n"
   ]
  },
  {
   "cell_type": "code",
   "execution_count": 121,
   "id": "04403860-5095-4871-a3b4-9486c2abb49d",
   "metadata": {},
   "outputs": [
    {
     "name": "stdout",
     "output_type": "stream",
     "text": [
      "\n",
      "Distribución de estado_otrs:\n",
      "estado_otrs\n",
      "CLOSED SUCCESSFUL      1199\n",
      "NEW                      55\n",
      "OPEN                     36\n",
      "MERGED                   25\n",
      "PENDING REMINDER         15\n",
      "CLOSED UNSUCCESSFUL      13\n",
      "Name: count, dtype: int64\n"
     ]
    }
   ],
   "source": [
    "# Análisis variables en estados de casos \n",
    "print(\"\\nDistribución de estado_otrs:\")\n",
    "print(df_depurado['estado_otrs'].value_counts())"
   ]
  },
  {
   "cell_type": "code",
   "execution_count": 125,
   "id": "2a0ecdb9-00e6-4376-af5b-c1190dde5086",
   "metadata": {},
   "outputs": [
    {
     "name": "stdout",
     "output_type": "stream",
     "text": [
      "\n",
      "Distribución de categoría de asunto:\n",
      "categoria_asunto\n",
      "Otros        1185\n",
      "Solicitud     103\n",
      "Revisión       32\n",
      "Error          23\n",
      "Name: count, dtype: int64\n"
     ]
    }
   ],
   "source": [
    "print(\"\\nDistribución de categoría de asunto:\")\n",
    "print(df_depurado['categoria_asunto'].value_counts())"
   ]
  },
  {
   "cell_type": "code",
   "execution_count": 127,
   "id": "88699654-caa9-4758-a223-0567d66344ad",
   "metadata": {},
   "outputs": [
    {
     "name": "stdout",
     "output_type": "stream",
     "text": [
      "\n",
      "Distribución de tickets por usuario:\n",
      "usuario\n",
      "KATHERINE.VELEZ      73\n",
      "GERALDIN.PERNIA      73\n",
      "JHON.RAMIREZ         67\n",
      "LUIS.LONDOÑO         64\n",
      "GERALDINE.PERDOMO    56\n",
      "                     ..\n",
      "EDISON.OBANDO         1\n",
      "MABEL.CAICEDO         1\n",
      "JENNY.GIRON           1\n",
      "INGRID.BLANDON        1\n",
      "LAURA.MONCADA         1\n",
      "Name: count, Length: 87, dtype: int64\n"
     ]
    }
   ],
   "source": [
    "print(\"\\nDistribución de tickets por usuario:\")\n",
    "print(df_depurado['usuario'].value_counts())"
   ]
  },
  {
   "cell_type": "code",
   "execution_count": 129,
   "id": "2c87390e-c430-45a7-9d1c-aa8ce6040a7d",
   "metadata": {},
   "outputs": [
    {
     "name": "stdout",
     "output_type": "stream",
     "text": [
      "\n",
      "Distribución de tickets por día de la semana:\n",
      "dia_semana\n",
      "Wednesday    283\n",
      "Friday       277\n",
      "Thursday     263\n",
      "Monday       251\n",
      "Tuesday      247\n",
      "Saturday      17\n",
      "Sunday         5\n",
      "Name: count, dtype: int64\n"
     ]
    }
   ],
   "source": [
    "print(\"\\nDistribución de tickets por día de la semana:\")\n",
    "print(df_depurado['dia_semana'].value_counts())"
   ]
  },
  {
   "cell_type": "code",
   "execution_count": 131,
   "id": "2fc23d83-23a0-4711-a14b-bc4a357ecfd3",
   "metadata": {},
   "outputs": [
    {
     "name": "stdout",
     "output_type": "stream",
     "text": [
      "\n",
      "Distribución de tickets por hora del día:\n",
      "hora_creacion\n",
      "5       1\n",
      "6      15\n",
      "7     154\n",
      "8     178\n",
      "9     175\n",
      "10    158\n",
      "11    154\n",
      "12     69\n",
      "13     44\n",
      "14    137\n",
      "15    129\n",
      "16     88\n",
      "17     27\n",
      "18      4\n",
      "19      4\n",
      "20      5\n",
      "21      1\n",
      "Name: count, dtype: int64\n"
     ]
    }
   ],
   "source": [
    "print(\"\\nDistribución de tickets por hora del día:\")\n",
    "print(df_depurado['hora_creacion'].value_counts().sort_index())"
   ]
  }
 ],
 "metadata": {
  "kernelspec": {
   "display_name": "Python [conda env:base] *",
   "language": "python",
   "name": "conda-base-py"
  },
  "language_info": {
   "codemirror_mode": {
    "name": "ipython",
    "version": 3
   },
   "file_extension": ".py",
   "mimetype": "text/x-python",
   "name": "python",
   "nbconvert_exporter": "python",
   "pygments_lexer": "ipython3",
   "version": "3.11.5"
  }
 },
 "nbformat": 4,
 "nbformat_minor": 5
}
