{
  "nbformat": 4,
  "nbformat_minor": 0,
  "metadata": {
    "colab": {
      "provenance": []
    },
    "kernelspec": {
      "name": "python3",
      "display_name": "Python 3"
    },
    "language_info": {
      "name": "python"
    }
  },
  "cells": [
    {
      "cell_type": "markdown",
      "source": [
        "**LABORATORIO DE ETL: ANÁLISIS DE VENTAS DE ELECTRODOMÉSTICOS EN COLOMBIA**\n",
        "\n",
        "*Objetivo del laboratorio*\n",
        "\n",
        "El objetivo de este laboratorio es que los estudiantes practiquen habilidades clave de ETL y análisis exploratorio de datos. Utilizarán un dataset que contiene información sobre compras de clientes de electrodomésticos en Colombia."
      ],
      "metadata": {
        "id": "9oOMIhBY0LZu"
      }
    },
    {
      "cell_type": "code",
      "source": [
        "import pandas as pd\n",
        "import numpy as np\n",
        "import matplotlib.pyplot as plt\n",
        "import seaborn as sns\n",
        "from datetime import datetime\n",
        "import re\n",
        "import glob\n",
        "import os\n",
        "from dateutil.parser import parse\n",
        "from statsmodels.tsa.seasonal import seasonal_decompose\n",
        "from statsmodels.tsa.holtwinters import ExponentialSmoothing\n",
        "from mlxtend.frequent_patterns import apriori, association_rules"
      ],
      "metadata": {
        "id": "kdUcTNuw2OLB"
      },
      "execution_count": null,
      "outputs": []
    },
    {
      "cell_type": "code",
      "source": [
        "print(\"=\"*50)\n",
        "print(\"1. EXTRACCIÓN DE DATOS\")\n",
        "print(\"=\"*50)"
      ],
      "metadata": {
        "colab": {
          "base_uri": "https://localhost:8080/"
        },
        "id": "2cT3RI0wVtET",
        "outputId": "84754f60-f644-4296-e6b7-c84e98317dc9"
      },
      "execution_count": null,
      "outputs": [
        {
          "output_type": "stream",
          "name": "stdout",
          "text": [
            "==================================================\n",
            "1. EXTRACCIÓN DE DATOS\n",
            "==================================================\n"
          ]
        }
      ]
    },
    {
      "cell_type": "code",
      "execution_count": null,
      "metadata": {
        "id": "Bq9erQ62HfO8",
        "colab": {
          "base_uri": "https://localhost:8080/"
        },
        "outputId": "104b86ab-5315-4a17-f336-99ebd49a5ec1"
      },
      "outputs": [
        {
          "output_type": "stream",
          "name": "stdout",
          "text": [
            "Archivo cargado exitosamente. Dimensiones: (11275, 9)\n"
          ]
        }
      ],
      "source": [
        "# 1.Cargar el dataset desde un archivo Excel (Dataset_Clientes_Colombia.xlsx)\n",
        "df = pd.read_excel('Dataset_Clientes_Colombia.xlsx')\n",
        "print(f\"Archivo cargado exitosamente. Dimensiones: {df.shape}\")\n"
      ]
    },
    {
      "cell_type": "code",
      "source": [
        "# Mostramos las primeras filas del DataFrame\n",
        "print(\"\\nPrimeras filas del DataFrame:\")\n",
        "print(df.head())"
      ],
      "metadata": {
        "colab": {
          "base_uri": "https://localhost:8080/"
        },
        "id": "hdjWATLk0xpM",
        "outputId": "baa462fe-973d-4a42-b0cd-3c094de85dda"
      },
      "execution_count": null,
      "outputs": [
        {
          "output_type": "stream",
          "name": "stdout",
          "text": [
            "\n",
            "Primeras filas del DataFrame:\n",
            "  ID Compra    Nombre   Apellido Electrodoméstico  Cantidad  Valor Unitario  \\\n",
            "0  CL-00001    Marcia      PARRA           Nevera       5.0         1800000   \n",
            "1  CL-00002   Alfonso       ROMA          Plancha       1.0          150000   \n",
            "2  CL-00003       NaN     DUE%AS  Horno eléctrico       3.0          500000   \n",
            "3  CL-00004   Gonzalo  SEBASTIÁN        Licuadora       3.0          250000   \n",
            "4  CL-00005  Ambrosio       PRAT         Lavadora       5.0         1500000   \n",
            "\n",
            "   Valor Total Fecha Compra Hora Compra  \n",
            "0      9000000   2023-07-12    03:27:54  \n",
            "1       150000   2023-01-16    04:34:05  \n",
            "2      1500000   2022-09-21    20:18:45  \n",
            "3       750000   2024-05-23    15:39:00  \n",
            "4      7500000   2022-09-08    13:57:58  \n"
          ]
        }
      ]
    },
    {
      "cell_type": "markdown",
      "source": [
        "**# 2. Identificar y contar:**"
      ],
      "metadata": {
        "id": "3IbE-9CTXWmQ"
      }
    },
    {
      "cell_type": "code",
      "source": [
        "# Valores nulos\n",
        "print(\"\\nValores nulos en el DataFrame:\")\n",
        "print(df.isnull().sum())"
      ],
      "metadata": {
        "colab": {
          "base_uri": "https://localhost:8080/"
        },
        "id": "j9SL3W1rWIFd",
        "outputId": "a8868465-ab83-4678-f7cf-72df21048d6f"
      },
      "execution_count": null,
      "outputs": [
        {
          "output_type": "stream",
          "name": "stdout",
          "text": [
            "\n",
            "Valores nulos en el DataFrame:\n",
            "ID Compra            0\n",
            "Nombre              21\n",
            "Apellido            20\n",
            "Electrodoméstico    21\n",
            "Cantidad            10\n",
            "Valor Unitario       0\n",
            "Valor Total          0\n",
            "Fecha Compra         0\n",
            "Hora Compra          0\n",
            "dtype: int64\n"
          ]
        }
      ]
    },
    {
      "cell_type": "code",
      "source": [
        "# valores vacios\n",
        "print(\"\\nValores vacíos en el DataFrame:\")\n",
        "print(df.isna().sum())"
      ],
      "metadata": {
        "colab": {
          "base_uri": "https://localhost:8080/"
        },
        "id": "LNeCc3cfXQrx",
        "outputId": "4f58358c-7c6a-4b61-8128-596fa0fa9d07"
      },
      "execution_count": null,
      "outputs": [
        {
          "output_type": "stream",
          "name": "stdout",
          "text": [
            "\n",
            "Valores vacíos en el DataFrame:\n",
            "ID Compra            0\n",
            "Nombre              21\n",
            "Apellido            20\n",
            "Electrodoméstico    21\n",
            "Cantidad            10\n",
            "Valor Unitario       0\n",
            "Valor Total          0\n",
            "Fecha Compra         0\n",
            "Hora Compra          0\n",
            "dtype: int64\n"
          ]
        }
      ]
    },
    {
      "cell_type": "code",
      "source": [
        "#Filas duplicadas\n",
        "print(\"\\nFilas duplicadas en el DataFrame:\")\n",
        "print(df.duplicated().sum())"
      ],
      "metadata": {
        "colab": {
          "base_uri": "https://localhost:8080/"
        },
        "id": "p90njHvAY4Zp",
        "outputId": "4e7f3578-9c59-4a1d-e240-6576a77dd043"
      },
      "execution_count": null,
      "outputs": [
        {
          "output_type": "stream",
          "name": "stdout",
          "text": [
            "\n",
            "Filas duplicadas en el DataFrame:\n",
            "0\n"
          ]
        }
      ]
    },
    {
      "cell_type": "markdown",
      "source": [
        "**3. Verificar formatos inconsistentes en:**"
      ],
      "metadata": {
        "id": "6yyUpwyoY9yG"
      }
    },
    {
      "cell_type": "code",
      "source": [
        "#formatos inconsistentes en fecha Compra\n",
        "print(\"\\nFormato inconsistente en la columna 'Fecha Compra':\")\n",
        "print(df['Fecha Compra'].apply(lambda x: not isinstance(x, datetime)).sum())"
      ],
      "metadata": {
        "colab": {
          "base_uri": "https://localhost:8080/"
        },
        "id": "teWjra6-ZB98",
        "outputId": "656d3cfd-3407-4409-e681-60a8143c8c0b"
      },
      "execution_count": null,
      "outputs": [
        {
          "output_type": "stream",
          "name": "stdout",
          "text": [
            "\n",
            "Formato inconsistente en la columna 'Fecha Compra':\n",
            "11275\n"
          ]
        }
      ]
    },
    {
      "cell_type": "code",
      "source": [
        "#formatos inconsistentes en Nombre y Apellido (mayúsculas, símbolos)\n",
        "print(\"\\nFormato inconsistente en las columnas 'Nombre' y 'Apellido':\")\n",
        "nombre_problemas = df[\"Nombre\"].dropna().apply(lambda x: bool(re.search(r'[^a-zA-ZáéíóúÁÉÍÓÚüÜñÑ\\s]', str(x)))).sum()\n",
        "apellido_problemas = df[\"Apellido\"].dropna().apply(lambda x: bool(re.search(r'[^a-zA-ZáéíóúÁÉÍÓÚüÜñÑ\\s]', str(x)))).sum()\n",
        "print(nombre_problemas)\n",
        "print(apellido_problemas)"
      ],
      "metadata": {
        "colab": {
          "base_uri": "https://localhost:8080/"
        },
        "id": "ZffAcvGKDqCU",
        "outputId": "f3667920-3779-4764-9448-da86bacfebd3"
      },
      "execution_count": null,
      "outputs": [
        {
          "output_type": "stream",
          "name": "stdout",
          "text": [
            "\n",
            "Formato inconsistente en las columnas 'Nombre' y 'Apellido':\n",
            "42\n",
            "466\n"
          ]
        }
      ]
    },
    {
      "cell_type": "markdown",
      "source": [
        "**Otras inconsistencias a verificar**"
      ],
      "metadata": {
        "id": "U9xzAvW4JZBL"
      }
    },
    {
      "cell_type": "code",
      "source": [
        "# Verificar formato de ID\n",
        "print(\"\\nVerificación del formato de ID Compra:\")\n",
        "patron_id = r'^CL-\\d{5}$'\n",
        "ids_invalidos = df[~df['ID Compra'].str.match(patron_id)]\n",
        "\n",
        "if len(ids_invalidos) > 0:\n",
        "    print(f\"Se encontraron {len(ids_invalidos)} IDs con formato inválido:\")\n",
        "    print(ids_invalidos[['ID Compra']])\n",
        "else:\n",
        "    print(\"✓ Todos los IDs siguen el formato esperado (CL-XXXXX)\")"
      ],
      "metadata": {
        "colab": {
          "base_uri": "https://localhost:8080/"
        },
        "id": "Hs4GtbgH9PMw",
        "outputId": "57c5e9ad-c231-4a7a-9a4a-6ea0736407f3"
      },
      "execution_count": null,
      "outputs": [
        {
          "output_type": "stream",
          "name": "stdout",
          "text": [
            "\n",
            "Verificación del formato de ID Compra:\n",
            "✓ Todos los IDs siguen el formato esperado (CL-XXXXX)\n"
          ]
        }
      ]
    },
    {
      "cell_type": "code",
      "source": [
        "# Verificar inconsistencias en valores numéricos (Cantidad)\n",
        "print(\"\\nVerificación de valores inconsistentes en Cantidad:\")\n",
        "cantidades_negativas = df[df['Cantidad'] <= 0]\n",
        "print(len(cantidades_negativas))"
      ],
      "metadata": {
        "colab": {
          "base_uri": "https://localhost:8080/"
        },
        "id": "srwKhZsZHaSD",
        "outputId": "f6b6f9f7-fd4c-471a-ac27-c07dfba7b6ab"
      },
      "execution_count": null,
      "outputs": [
        {
          "output_type": "stream",
          "name": "stdout",
          "text": [
            "\n",
            "Verificación de valores inconsistentes en Cantidad:\n",
            "0\n"
          ]
        }
      ]
    },
    {
      "cell_type": "code",
      "source": [
        "# Verificar consistencia entre Valor Unitario y Valor Total\n",
        "print(\"\\nVerificación de consistencia entre Valor Unitario y Valor Total:\")\n",
        "df['Valor Total Calculado'] = df['Valor Unitario'] * df['Cantidad']\n",
        "df['Diferencia'] = abs(df['Valor Total'] - df['Valor Total Calculado'])\n",
        "valores_inconsistentes = df[df['Diferencia'] > 1]  # Tolerancia de 1 peso por redondeo\n",
        "\n",
        "if len(valores_inconsistentes) > 0:\n",
        "    print(f\"Se encontraron {len(valores_inconsistentes)} registros con inconsistencias entre Valor Unitario y Valor Total:\")\n",
        "    print(valores_inconsistentes[['ID', 'Valor Unitario', 'Cantidad', 'Valor Total', 'Valor Total Calculado', 'Diferencia']])\n",
        "else:\n",
        "    print(\"✓ Todos los valores totales son consistentes con la fórmula: Valor Total = Valor Unitario × Cantidad\")\n"
      ],
      "metadata": {
        "colab": {
          "base_uri": "https://localhost:8080/"
        },
        "id": "plcAzRfeLgKf",
        "outputId": "2089c040-21e2-4168-e537-3a950eb97536"
      },
      "execution_count": null,
      "outputs": [
        {
          "output_type": "stream",
          "name": "stdout",
          "text": [
            "\n",
            "Verificación de consistencia entre Valor Unitario y Valor Total:\n",
            "✓ Todos los valores totales son consistentes con la fórmula: Valor Total = Valor Unitario × Cantidad\n"
          ]
        }
      ]
    },
    {
      "cell_type": "code",
      "source": [
        "# Verificar formato de Hora Compra\n",
        "print(\"\\nVerificación del formato de Hora Compra:\")\n",
        "patron_hora = r'^([01]\\d|2[0-3]):([0-5]\\d):([0-5]\\d)$'\n",
        "horas_invalidas = df[~df['Hora Compra'].str.match(patron_hora)]\n",
        "print(len(horas_invalidas))"
      ],
      "metadata": {
        "colab": {
          "base_uri": "https://localhost:8080/"
        },
        "id": "0VW5lBDIMGav",
        "outputId": "497e1a79-0bec-43a5-c396-56c15f0889cf"
      },
      "execution_count": null,
      "outputs": [
        {
          "output_type": "stream",
          "name": "stdout",
          "text": [
            "\n",
            "Verificación del formato de Hora Compra:\n",
            "0\n"
          ]
        }
      ]
    },
    {
      "cell_type": "markdown",
      "source": [
        "**TRANSFORMACION**"
      ],
      "metadata": {
        "id": "9qOpbwe9OBBN"
      }
    },
    {
      "cell_type": "code",
      "source": [
        "# 1. Limpiar nombres y apellidos\n",
        "#sacamos una copia del df original\n",
        "df_original = df.copy()\n",
        "\n",
        "def limpiar_texto(texto):\n",
        "    if pd.isna(texto):\n",
        "        return texto\n",
        "    texto_limpio = re.sub(r'[^a-zA-ZáéíóúÁÉÍÓÚüÜñÑ\\s]', '', str(texto))\n",
        "    texto_limpio = texto_limpio.strip().title()\n",
        "\n",
        "    return texto_limpio\n",
        "# Reemplazar \"%\" por \"ñ\" en los apellidos\n",
        "df[\"Apellido\"] = df[\"Apellido\"].str.replace(\"%\", \"ñ\", regex=False)\n",
        "# Aplicar limpieza a nombres y apellidos\n",
        "df['Nombre'] = df['Nombre'].apply(limpiar_texto)\n",
        "df['Apellido'] = df['Apellido'].apply(limpiar_texto)\n",
        "print(df[['Nombre', 'Apellido']].head(8))\n",
        "# Guardar DataFrame para la siguiente celda del NoteBook\n",
        "df.to_pickle('df_limpio_temp.pkl')"
      ],
      "metadata": {
        "colab": {
          "base_uri": "https://localhost:8080/"
        },
        "id": "T8J6xc6SN_x9",
        "outputId": "99f74024-b676-446f-c7ba-2a8593349f26"
      },
      "execution_count": null,
      "outputs": [
        {
          "output_type": "stream",
          "name": "stdout",
          "text": [
            "     Nombre   Apellido\n",
            "0    Marcia      Parra\n",
            "1   Alfonso       Roma\n",
            "2       NaN     Dueñas\n",
            "3   Gonzalo  Sebastián\n",
            "4  Ambrosio       Prat\n",
            "5    Roldán      Elías\n",
            "6    Amando      Tovar\n",
            "7    Haydée    Cabrera\n"
          ]
        }
      ]
    },
    {
      "cell_type": "code",
      "source": [
        "# 2. Normalizar fechas\n",
        "# Cargar el DataFrame de la celda anterior\n",
        "try:\n",
        "    df = pd.read_pickle('df_limpio_temp.pkl')\n",
        "except:\n",
        "    print(\"Por favor, ejecuta la celda anterior primero\")\n",
        "\n",
        "def normalizar_fecha(fecha_str):\n",
        "    if pd.isna(fecha_str):\n",
        "        return None\n",
        "\n",
        "    fecha_str = str(fecha_str).strip()\n",
        "\n",
        "    try:\n",
        "        # Primero intenta con dateutil, que detecta formato automáticamente\n",
        "        return parse(fecha_str, dayfirst=None, fuzzy=True)\n",
        "    except:\n",
        "        try:\n",
        "            # Si falla, intenta con pandas (modo mixed)\n",
        "            return pd.to_datetime(fecha_str, format='mixed', errors='raise')\n",
        "        except:\n",
        "            try:\n",
        "                # Si sigue fallando, intenta con formato día primero\n",
        "                return parse(fecha_str, dayfirst=True, fuzzy=True)\n",
        "            except:\n",
        "                try:\n",
        "                    # Intenta limpiar caracteres extraños y reintentar\n",
        "                    fecha_limpia = re.sub(r'[^\\w\\s/-]', '', fecha_str)\n",
        "                    return parse(fecha_limpia, fuzzy=True)\n",
        "                except:\n",
        "                    print(f\"No se pudo convertir la fecha: {fecha_str}\")\n",
        "                    return None\n",
        "\n",
        "# Aplicar la función a la columna de fechas\n",
        "df['Fecha Compra'] = df['Fecha Compra'].apply(normalizar_fecha)\n",
        "\n",
        "# Identificar filas con fechas no convertidas\n",
        "filas_con_fechas_nulas = df[df['Fecha Compra'].isna()]\n",
        "print(f\"Número de filas con fechas que no se pudieron convertir: {len(filas_con_fechas_nulas)}\")\n",
        "\n",
        "# Guardar el DataFrame limpio\n",
        "df.to_pickle('df_limpio_temp.pkl')"
      ],
      "metadata": {
        "colab": {
          "base_uri": "https://localhost:8080/"
        },
        "id": "_-3Oia5XuKnz",
        "outputId": "e881ea1c-ba25-4fd1-fcca-ded0abd223e2"
      },
      "execution_count": null,
      "outputs": [
        {
          "output_type": "stream",
          "name": "stdout",
          "text": [
            "Número de filas con fechas que no se pudieron convertir: 0\n"
          ]
        }
      ]
    },
    {
      "cell_type": "code",
      "source": [
        "# Comprobamos conversion de ocurrencias de fechas en distintos formatos\n",
        "ids_a_filtrar = [\"CL-02615\", \"CL-06360\", \"CL-06408\", \"CL-07074\", \"CL-07323\", \"CL-08971\"]\n",
        "df_filtrado = df[df[\"ID Compra\"].isin(ids_a_filtrar)]\n",
        "print(df_filtrado)"
      ],
      "metadata": {
        "colab": {
          "base_uri": "https://localhost:8080/"
        },
        "id": "j4nBKipswNdo",
        "outputId": "c5e8f4b0-b43b-4026-bdb6-5c1abae00098"
      },
      "execution_count": null,
      "outputs": [
        {
          "output_type": "stream",
          "name": "stdout",
          "text": [
            "     ID Compra     Nombre   Apellido Electrodoméstico  Cantidad  \\\n",
            "2614  CL-02615       Olga        Tur          Plancha       5.0   \n",
            "6359  CL-06360   Pacífica      Roman          Plancha       5.0   \n",
            "6407  CL-06408     Wálter      Marti       Microondas       3.0   \n",
            "7073  CL-07074  Prudencio  Capdevila         Cafetera       4.0   \n",
            "7322  CL-07323      Alejo      Durán         Cafetera       3.0   \n",
            "8970  CL-08971   Evaristo   Vizcaíno       Ventilador       3.0   \n",
            "\n",
            "      Valor Unitario  Valor Total Fecha Compra Hora Compra  \n",
            "2614          150000       750000   2022-07-23    08:37:52  \n",
            "6359          150000       750000   2022-02-05    16:03:08  \n",
            "6407          400000      1200000   2024-11-03    13:11:59  \n",
            "7073          300000      1200000   2024-08-02    12:23:10  \n",
            "7322          300000       900000   2023-01-29    13:48:14  \n",
            "8970          200000       600000   2023-04-05    13:25:51  \n"
          ]
        }
      ]
    },
    {
      "cell_type": "code",
      "source": [
        "#3. Imputar valores nulos\n",
        "# Cargar el DataFrame de la celda anterior\n",
        "try:\n",
        "    df = pd.read_pickle('df_limpio_temp.pkl')\n",
        "except:\n",
        "    # Si no existe, ejecutar las celdas anteriores primero\n",
        "    print(\"Por favor, ejecuta las celdas anteriores primero\")\n",
        "# Si hay valores nulos en la columna 'Nombre', imputarlos lógicamente\n",
        "if df['Nombre'].isnull().sum() > 0:\n",
        "    print(\"\\nImputando valores nulos en 'Nombre':\")\n",
        "\n",
        "    # Ver los registros con nombre nulo\n",
        "print(\"Registros con nombre nulo antes de la imputación:\")\n",
        "print(df[df['Nombre'].isnull()][['ID Compra', 'Nombre', 'Apellido', 'Electrodoméstico']])\n",
        "\n",
        "# Si hay valores nulos en la columna 'Nombre', imputarlos lógicamente\n",
        "# Imputar valores nulos en 'Nombre'\n",
        "df['Nombre'] = df.apply(lambda row: row['Apellido'] if pd.isna(row['Nombre']) and not pd.isna(row['Apellido']) else row['Nombre'], axis=1)\n",
        "\n",
        "# Eliminar filas donde tanto 'Nombre' como 'Apellido' sean nulos\n",
        "df = df.dropna(subset=['Nombre', 'Apellido', 'Electrodoméstico'], how='all')"
      ],
      "metadata": {
        "colab": {
          "base_uri": "https://localhost:8080/"
        },
        "id": "yhWG1s-j0Bf_",
        "outputId": "2db684fb-e231-456f-c5ef-94c631da12bc"
      },
      "execution_count": null,
      "outputs": [
        {
          "output_type": "stream",
          "name": "stdout",
          "text": [
            "\n",
            "Imputando valores nulos en 'Nombre':\n",
            "Registros con nombre nulo antes de la imputación:\n",
            "     ID Compra Nombre Apellido Electrodoméstico\n",
            "2     CL-00003    NaN   Dueñas  Horno eléctrico\n",
            "321   CL-00322    NaN      NaN              NaN\n",
            "856   CL-00857    NaN      NaN              NaN\n",
            "907   CL-00908    NaN      NaN              NaN\n",
            "1061  CL-01062    NaN      NaN              NaN\n",
            "1078  CL-01079    NaN      NaN              NaN\n",
            "1311  CL-01312    NaN      NaN              NaN\n",
            "1343  CL-01344    NaN      NaN              NaN\n",
            "2009  CL-02010    NaN      NaN              NaN\n",
            "3355  CL-03356    NaN      NaN              NaN\n",
            "4808  CL-04809    NaN      NaN              NaN\n",
            "5623  CL-05624    NaN      NaN              NaN\n",
            "5638  CL-05639    NaN      NaN              NaN\n",
            "5800  CL-05801    NaN      NaN              NaN\n",
            "6323  CL-06324    NaN      NaN              NaN\n",
            "8534  CL-08535    NaN      NaN              NaN\n",
            "9317  CL-09318    NaN      NaN              NaN\n",
            "9556  CL-09557    NaN      NaN              NaN\n",
            "9615  CL-09616    NaN      NaN              NaN\n",
            "9669  CL-09670    NaN      NaN              NaN\n",
            "9886  CL-09887    NaN      NaN              NaN\n"
          ]
        }
      ]
    },
    {
      "cell_type": "code",
      "source": [
        "# Comprobamos conversion de ocurrencias de nombres NaN\n",
        "ids_a_filtrar = [\"CL-00003\", \"CL-00322\", \"CL-00857\", \"CL-00908\", \"CL-01062\",\"CL-01079\",\"CL-01312\",\"CL-01344\",\"CL-02010\",\"CL-03356\",\"CL-04809\",\"CL-05624\",\"CL-05639\",\"CL-05801\",\"CL-06324\",\"CL-08535\",\"CL-09318\",\"CL-09557\",\"CL-09616\",\"CL-09670\",\"CL-09887\"]\n",
        "df_filtrado = df[df[\"ID Compra\"].isin(ids_a_filtrar)]\n",
        "print(df_filtrado)"
      ],
      "metadata": {
        "colab": {
          "base_uri": "https://localhost:8080/"
        },
        "id": "I6VBQFKj29os",
        "outputId": "b0b5fb62-1fef-4052-f2eb-682a4b8d5231"
      },
      "execution_count": null,
      "outputs": [
        {
          "output_type": "stream",
          "name": "stdout",
          "text": [
            "  ID Compra  Nombre Apellido Electrodoméstico  Cantidad  Valor Unitario  \\\n",
            "2  CL-00003  Dueñas   Dueñas  Horno eléctrico       3.0          500000   \n",
            "\n",
            "   Valor Total Fecha Compra Hora Compra  \n",
            "2      1500000   2022-09-21    20:18:45  \n"
          ]
        }
      ]
    },
    {
      "cell_type": "code",
      "source": [
        "# Valores nulos\n",
        "print(\"\\nValores nulos en el DataFrame:\")\n",
        "print(df.isnull().sum())"
      ],
      "metadata": {
        "colab": {
          "base_uri": "https://localhost:8080/"
        },
        "id": "FWpxBWdg-R4H",
        "outputId": "b41ae5ee-5691-463b-932a-47884432ba7b"
      },
      "execution_count": null,
      "outputs": [
        {
          "output_type": "stream",
          "name": "stdout",
          "text": [
            "\n",
            "Valores nulos en el DataFrame:\n",
            "ID Compra           0\n",
            "Nombre              0\n",
            "Apellido            0\n",
            "Electrodoméstico    1\n",
            "Cantidad            0\n",
            "Valor Unitario      0\n",
            "Valor Total         0\n",
            "Fecha Compra        0\n",
            "Hora Compra         0\n",
            "dtype: int64\n"
          ]
        }
      ]
    },
    {
      "cell_type": "code",
      "source": [
        "columnas_con_nulos = df.columns[df.isnull().any()].tolist()\n",
        "if columnas_con_nulos:\n",
        "    print(f\"\\nOtras columnas con valores nulos: {columnas_con_nulos}\")\n",
        "\n",
        "    # Imputar otros valores nulos según corresponda\n",
        "    for columna in columnas_con_nulos:\n",
        "      if columna == 'Electrodoméstico':\n",
        "        df[columna].fillna(\"Producto Desconocido\", inplace=True)\n",
        "print(f\"  - Se imputaron valores nulos en '{columna}' con 'Producto Desconocido'\")\n",
        "# Guardar el DataFrame para la siguiente celda\n",
        "df.to_pickle('df_limpio_temp.pkl')"
      ],
      "metadata": {
        "colab": {
          "base_uri": "https://localhost:8080/"
        },
        "id": "w9dLiGJD_vWi",
        "outputId": "1f07be63-3971-495b-b057-38a37a2c9424"
      },
      "execution_count": null,
      "outputs": [
        {
          "output_type": "stream",
          "name": "stdout",
          "text": [
            "\n",
            "Otras columnas con valores nulos: ['Electrodoméstico']\n",
            "  - Se imputaron valores nulos en 'Electrodoméstico' con 'Producto Desconocido'\n"
          ]
        },
        {
          "output_type": "stream",
          "name": "stderr",
          "text": [
            "<ipython-input-172-69d5595011f1>:8: FutureWarning: A value is trying to be set on a copy of a DataFrame or Series through chained assignment using an inplace method.\n",
            "The behavior will change in pandas 3.0. This inplace method will never work because the intermediate object on which we are setting values always behaves as a copy.\n",
            "\n",
            "For example, when doing 'df[col].method(value, inplace=True)', try using 'df.method({col: value}, inplace=True)' or df[col] = df[col].method(value) instead, to perform the operation inplace on the original object.\n",
            "\n",
            "\n",
            "  df[columna].fillna(\"Producto Desconocido\", inplace=True)\n"
          ]
        }
      ]
    },
    {
      "cell_type": "code",
      "source": [
        "# Cargar el DataFrame de la celda anterior\n",
        "try:\n",
        "    df = pd.read_pickle('df_limpio_temp.pkl')\n",
        "except:\n",
        "    # Si no existe, ejecutar las celdas anteriores primero\n",
        "    print(\"Por favor, ejecuta las celdas anteriores primero\")\n",
        "\n",
        "# Verificar duplicados exactos (todas las columnas)\n",
        "duplicados_exactos = df.duplicated().sum()\n",
        "print(f\"Duplicados exactos encontrados: {duplicados_exactos}\")\n"
      ],
      "metadata": {
        "colab": {
          "base_uri": "https://localhost:8080/"
        },
        "id": "IXgcPIfcBdgH",
        "outputId": "3ef7a670-0fa7-434d-e9d8-f61f045d36f1"
      },
      "execution_count": null,
      "outputs": [
        {
          "output_type": "stream",
          "name": "stdout",
          "text": [
            "Duplicados exactos encontrados: 0\n"
          ]
        }
      ]
    },
    {
      "cell_type": "code",
      "source": [
        "# Verificar duplicados basados en subconjuntos de columnas\n",
        "# Por ejemplo, misma persona comprando el mismo producto en la misma fecha\n",
        "columnas_clave = ['Nombre', 'Apellido', 'Electrodoméstico', 'Fecha Compra', 'Hora Compra']\n",
        "duplicados_parciales = df.duplicated(subset=columnas_clave).sum()\n",
        "\n",
        "print(f\"\\nDuplicados basados en {columnas_clave}: {duplicados_parciales}\")\n",
        "\n",
        "if duplicados_parciales > 0:\n",
        "    print(\"\\nPosibles duplicados (misma persona, mismo producto, misma fecha):\")\n",
        "    print(df[df.duplicated(subset=columnas_clave, keep=False)].sort_values(by=columnas_clave))\n",
        "\n",
        "    # Analizar estos duplicados parciales para determinar si son errores o compras legítimas\n",
        "    print(\"\\nAnálisis de duplicados parciales:\")\n",
        "\n",
        "    # Agrupar para ver las diferencias\n",
        "    for _, grupo in df[df.duplicated(subset=columnas_clave, keep=False)].groupby(columnas_clave):\n",
        "        print(\"\\nPosible grupo de duplicados:\")\n",
        "        print(grupo[['ID Compra', 'Nombre', 'Apellido', 'Electrodoméstico', 'Cantidad', 'Fecha Compra', 'Hora Compra']])\n",
        "\n",
        "        # Verificar si difieren en cantidad (podrían ser compras separadas)\n",
        "        if grupo['Cantidad'].nunique() > 1:\n",
        "            print(\"  → Estos registros difieren en cantidad, podrían ser compras separadas\")\n",
        "\n",
        "        # Verificar si difieren en hora (podrían ser compras separadas)\n",
        "        if grupo['Hora Compra'].nunique() > 1:\n",
        "            print(\"  → Estos registros difieren en hora, podrían ser compras separadas\")\n",
        "\n",
        "        # Si son exactamente iguales en todo excepto en ID, probablemente son duplicados reales\n",
        "        if (grupo.drop('ID Compra', axis=1).nunique() == 1).all():\n",
        "            print(\"  → Estos registros parecen ser duplicados reales (solo difieren en ID)\")\n",
        "            # Conservar solo la primera ocurrencia\n",
        "            ids_a_eliminar = grupo['ID Compra'].iloc[1:].tolist()\n",
        "            df = df[~df['ID Compra'].isin(ids_a_eliminar)]\n",
        "            print(f\"  → Se eliminaron los IDs: {ids_a_eliminar}\")\n",
        "\n",
        "# Contar registros después de eliminar duplicados\n",
        "print(f\"\\nRegistros finales después de eliminar duplicados: {len(df)}\")\n",
        "\n",
        "# Guardar el DataFrame para la siguiente celda\n",
        "df.to_pickle('df_limpio_temp.pkl')"
      ],
      "metadata": {
        "colab": {
          "base_uri": "https://localhost:8080/"
        },
        "id": "sU3szB2EDn7Y",
        "outputId": "e2e19d6a-13ef-40fa-e8a8-469d2770a99d"
      },
      "execution_count": null,
      "outputs": [
        {
          "output_type": "stream",
          "name": "stdout",
          "text": [
            "\n",
            "Duplicados basados en ['Nombre', 'Apellido', 'Electrodoméstico', 'Fecha Compra', 'Hora Compra']: 23\n",
            "\n",
            "Posibles duplicados (misma persona, mismo producto, misma fecha):\n",
            "      ID Compra     Nombre    Apellido Electrodoméstico  Cantidad  \\\n",
            "1      CL-00002    Alfonso        Roma          Plancha       1.0   \n",
            "11251  CL-11252    Alfonso        Roma          Plancha       1.0   \n",
            "4      CL-00005   Ambrosio        Prat         Lavadora       5.0   \n",
            "11254  CL-11255   Ambrosio        Prat         Lavadora       5.0   \n",
            "5753   CL-05754     Azahar    Figueroa         Lavadora       4.0   \n",
            "11267  CL-11268     Azahar    Figueroa         Lavadora       4.0   \n",
            "11058  CL-11059   Bautista  Villaverde         Lavadora       5.0   \n",
            "11272  CL-11273   Bautista  Villaverde         Lavadora       5.0   \n",
            "1496   CL-01497   Cipriano     Verdugo         Cafetera       4.0   \n",
            "11268  CL-11269   Cipriano     Verdugo         Cafetera       4.0   \n",
            "4463   CL-04464       Cruz      Adadia         Lavadora       1.0   \n",
            "11269  CL-11270       Cruz      Adadia         Lavadora       1.0   \n",
            "795    CL-00796   Domitila     Marquez  Horno eléctrico       3.0   \n",
            "11259  CL-11260   Domitila     Marquez  Horno eléctrico       3.0   \n",
            "9699   CL-09700    Encarna     Nicolau  Horno eléctrico       4.0   \n",
            "11260  CL-11261    Encarna     Nicolau  Horno eléctrico       4.0   \n",
            "6248   CL-06249    Eusebia     Bárcena       Aspiradora       1.0   \n",
            "11270  CL-11271    Eusebia     Bárcena       Aspiradora       1.0   \n",
            "4071   CL-04072   Evaristo     Olivera          Plancha       5.0   \n",
            "11262  CL-11263   Evaristo     Olivera          Plancha       5.0   \n",
            "3      CL-00004    Gonzalo   Sebastián        Licuadora       3.0   \n",
            "11253  CL-11254    Gonzalo   Sebastián        Licuadora       3.0   \n",
            "9338   CL-09339   Graciela     Salgado         Lavadora       3.0   \n",
            "11265  CL-11266   Graciela     Salgado         Lavadora       3.0   \n",
            "218    CL-00219       Iker        Vera         Cafetera       4.0   \n",
            "11257  CL-11258       Iker        Vera         Cafetera       4.0   \n",
            "2252   CL-02253     Ileana       Camps        Licuadora       3.0   \n",
            "11255  CL-11256     Ileana       Camps        Licuadora       3.0   \n",
            "5137   CL-05138    Jordana     Cabrera         Cafetera       5.0   \n",
            "11273  CL-11274    Jordana     Cabrera         Cafetera       5.0   \n",
            "4836   CL-04837       Luís     Cardona           Nevera       1.0   \n",
            "11261  CL-11262       Luís     Cardona           Nevera       1.0   \n",
            "0      CL-00001     Marcia       Parra           Nevera       5.0   \n",
            "11250  CL-11251     Marcia       Parra           Nevera       5.0   \n",
            "9455   CL-09456    Maribel      Pastor         Lavadora       2.0   \n",
            "11264  CL-11265    Maribel      Pastor         Lavadora       2.0   \n",
            "9499   CL-09500       Nico     Barrios       Aspiradora       4.0   \n",
            "11256  CL-11257       Nico     Barrios       Aspiradora       4.0   \n",
            "4373   CL-04374  Prudencio    Quintero       Ventilador       2.0   \n",
            "11274  CL-11275  Prudencio    Quintero       Ventilador       2.0   \n",
            "10022  CL-10023     Sarita       Pavón        Televisor       4.0   \n",
            "11266  CL-11267     Sarita       Pavón        Televisor       4.0   \n",
            "1501   CL-01502      Trini       Gallo       Microondas       3.0   \n",
            "11271  CL-11272      Trini       Gallo       Microondas       3.0   \n",
            "5833   CL-05834       Vito    Guerrero  Horno eléctrico       4.0   \n",
            "11263  CL-11264       Vito    Guerrero  Horno eléctrico       4.0   \n",
            "\n",
            "       Valor Unitario  Valor Total Fecha Compra Hora Compra  \n",
            "1              150000       150000   2023-01-16    04:34:05  \n",
            "11251          150000       150000   2023-01-16    04:34:05  \n",
            "4             1500000      7500000   2022-09-08    13:57:58  \n",
            "11254         1500000      7500000   2022-09-08    13:57:58  \n",
            "5753          1500000      6000000   2022-11-09    04:25:43  \n",
            "11267         1500000      6000000   2022-11-09    04:25:43  \n",
            "11058         1500000      7500000   2024-03-04    05:50:19  \n",
            "11272         1500000      7500000   2024-03-04    05:50:19  \n",
            "1496           300000      1200000   2023-07-23    21:15:24  \n",
            "11268          300000      1200000   2023-07-23    21:15:24  \n",
            "4463          1500000      1500000   2023-10-30    02:45:50  \n",
            "11269         1500000      1500000   2023-10-30    02:45:50  \n",
            "795            500000      1500000   2022-11-21    05:13:13  \n",
            "11259          500000      1500000   2022-11-21    05:13:13  \n",
            "9699           500000      2000000   2023-02-07    03:54:01  \n",
            "11260          500000      2000000   2023-02-07    03:54:01  \n",
            "6248           600000       600000   2024-04-02    21:34:06  \n",
            "11270          600000       600000   2024-04-02    21:34:06  \n",
            "4071           150000       750000   2024-01-30    00:00:13  \n",
            "11262          150000       750000   2024-01-30    00:00:13  \n",
            "3              250000       750000   2024-05-23    15:39:00  \n",
            "11253          250000       750000   2024-05-23    15:39:00  \n",
            "9338          1500000      4500000   2024-03-14    08:49:02  \n",
            "11265         1500000      4500000   2024-03-14    08:49:02  \n",
            "218            300000      1200000   2024-05-07    08:29:27  \n",
            "11257          300000      1200000   2024-05-07    08:29:27  \n",
            "2252           250000       750000   2024-12-22    07:57:04  \n",
            "11255          250000       750000   2024-12-22    07:57:04  \n",
            "5137           300000      1500000   2022-05-26    21:24:03  \n",
            "11273          300000      1500000   2022-05-26    21:24:03  \n",
            "4836          1800000      1800000   2024-08-10    01:02:21  \n",
            "11261         1800000      1800000   2024-08-10    01:02:21  \n",
            "0             1800000      9000000   2023-07-12    03:27:54  \n",
            "11250         1800000      9000000   2023-07-12    03:27:54  \n",
            "9455          1500000      3000000   2022-05-23    09:34:38  \n",
            "11264         1500000      3000000   2022-05-23    09:34:38  \n",
            "9499           600000      2400000   2022-02-22    01:30:14  \n",
            "11256          600000      2400000   2022-02-22    01:30:14  \n",
            "4373           200000       400000   2022-12-23    22:51:24  \n",
            "11274          200000       400000   2022-12-23    22:51:24  \n",
            "10022         1200000      4800000   2024-01-06    06:25:50  \n",
            "11266         1200000      4800000   2024-01-06    06:25:50  \n",
            "1501           400000      1200000   2023-08-29    01:20:59  \n",
            "11271          400000      1200000   2023-08-29    01:20:59  \n",
            "5833           500000      2000000   2022-06-01    18:17:32  \n",
            "11263          500000      2000000   2022-06-01    18:17:32  \n",
            "\n",
            "Análisis de duplicados parciales:\n",
            "\n",
            "Posible grupo de duplicados:\n",
            "      ID Compra   Nombre Apellido Electrodoméstico  Cantidad Fecha Compra  \\\n",
            "1      CL-00002  Alfonso     Roma          Plancha       1.0   2023-01-16   \n",
            "11251  CL-11252  Alfonso     Roma          Plancha       1.0   2023-01-16   \n",
            "\n",
            "      Hora Compra  \n",
            "1        04:34:05  \n",
            "11251    04:34:05  \n",
            "  → Estos registros parecen ser duplicados reales (solo difieren en ID)\n",
            "  → Se eliminaron los IDs: ['CL-11252']\n",
            "\n",
            "Posible grupo de duplicados:\n",
            "      ID Compra    Nombre Apellido Electrodoméstico  Cantidad Fecha Compra  \\\n",
            "4      CL-00005  Ambrosio     Prat         Lavadora       5.0   2022-09-08   \n",
            "11254  CL-11255  Ambrosio     Prat         Lavadora       5.0   2022-09-08   \n",
            "\n",
            "      Hora Compra  \n",
            "4        13:57:58  \n",
            "11254    13:57:58  \n",
            "  → Estos registros parecen ser duplicados reales (solo difieren en ID)\n",
            "  → Se eliminaron los IDs: ['CL-11255']\n",
            "\n",
            "Posible grupo de duplicados:\n",
            "      ID Compra  Nombre  Apellido Electrodoméstico  Cantidad Fecha Compra  \\\n",
            "5753   CL-05754  Azahar  Figueroa         Lavadora       4.0   2022-11-09   \n",
            "11267  CL-11268  Azahar  Figueroa         Lavadora       4.0   2022-11-09   \n",
            "\n",
            "      Hora Compra  \n",
            "5753     04:25:43  \n",
            "11267    04:25:43  \n",
            "  → Estos registros parecen ser duplicados reales (solo difieren en ID)\n",
            "  → Se eliminaron los IDs: ['CL-11268']\n",
            "\n",
            "Posible grupo de duplicados:\n",
            "      ID Compra    Nombre    Apellido Electrodoméstico  Cantidad Fecha Compra  \\\n",
            "11058  CL-11059  Bautista  Villaverde         Lavadora       5.0   2024-03-04   \n",
            "11272  CL-11273  Bautista  Villaverde         Lavadora       5.0   2024-03-04   \n",
            "\n",
            "      Hora Compra  \n",
            "11058    05:50:19  \n",
            "11272    05:50:19  \n",
            "  → Estos registros parecen ser duplicados reales (solo difieren en ID)\n",
            "  → Se eliminaron los IDs: ['CL-11273']\n",
            "\n",
            "Posible grupo de duplicados:\n",
            "      ID Compra    Nombre Apellido Electrodoméstico  Cantidad Fecha Compra  \\\n",
            "1496   CL-01497  Cipriano  Verdugo         Cafetera       4.0   2023-07-23   \n",
            "11268  CL-11269  Cipriano  Verdugo         Cafetera       4.0   2023-07-23   \n",
            "\n",
            "      Hora Compra  \n",
            "1496     21:15:24  \n",
            "11268    21:15:24  \n",
            "  → Estos registros parecen ser duplicados reales (solo difieren en ID)\n",
            "  → Se eliminaron los IDs: ['CL-11269']\n",
            "\n",
            "Posible grupo de duplicados:\n",
            "      ID Compra Nombre Apellido Electrodoméstico  Cantidad Fecha Compra  \\\n",
            "4463   CL-04464   Cruz   Adadia         Lavadora       1.0   2023-10-30   \n",
            "11269  CL-11270   Cruz   Adadia         Lavadora       1.0   2023-10-30   \n",
            "\n",
            "      Hora Compra  \n",
            "4463     02:45:50  \n",
            "11269    02:45:50  \n",
            "  → Estos registros parecen ser duplicados reales (solo difieren en ID)\n",
            "  → Se eliminaron los IDs: ['CL-11270']\n",
            "\n",
            "Posible grupo de duplicados:\n",
            "      ID Compra    Nombre Apellido Electrodoméstico  Cantidad Fecha Compra  \\\n",
            "795    CL-00796  Domitila  Marquez  Horno eléctrico       3.0   2022-11-21   \n",
            "11259  CL-11260  Domitila  Marquez  Horno eléctrico       3.0   2022-11-21   \n",
            "\n",
            "      Hora Compra  \n",
            "795      05:13:13  \n",
            "11259    05:13:13  \n",
            "  → Estos registros parecen ser duplicados reales (solo difieren en ID)\n",
            "  → Se eliminaron los IDs: ['CL-11260']\n",
            "\n",
            "Posible grupo de duplicados:\n",
            "      ID Compra   Nombre Apellido Electrodoméstico  Cantidad Fecha Compra  \\\n",
            "9699   CL-09700  Encarna  Nicolau  Horno eléctrico       4.0   2023-02-07   \n",
            "11260  CL-11261  Encarna  Nicolau  Horno eléctrico       4.0   2023-02-07   \n",
            "\n",
            "      Hora Compra  \n",
            "9699     03:54:01  \n",
            "11260    03:54:01  \n",
            "  → Estos registros parecen ser duplicados reales (solo difieren en ID)\n",
            "  → Se eliminaron los IDs: ['CL-11261']\n",
            "\n",
            "Posible grupo de duplicados:\n",
            "      ID Compra   Nombre Apellido Electrodoméstico  Cantidad Fecha Compra  \\\n",
            "6248   CL-06249  Eusebia  Bárcena       Aspiradora       1.0   2024-04-02   \n",
            "11270  CL-11271  Eusebia  Bárcena       Aspiradora       1.0   2024-04-02   \n",
            "\n",
            "      Hora Compra  \n",
            "6248     21:34:06  \n",
            "11270    21:34:06  \n",
            "  → Estos registros parecen ser duplicados reales (solo difieren en ID)\n",
            "  → Se eliminaron los IDs: ['CL-11271']\n",
            "\n",
            "Posible grupo de duplicados:\n",
            "      ID Compra    Nombre Apellido Electrodoméstico  Cantidad Fecha Compra  \\\n",
            "4071   CL-04072  Evaristo  Olivera          Plancha       5.0   2024-01-30   \n",
            "11262  CL-11263  Evaristo  Olivera          Plancha       5.0   2024-01-30   \n",
            "\n",
            "      Hora Compra  \n",
            "4071     00:00:13  \n",
            "11262    00:00:13  \n",
            "  → Estos registros parecen ser duplicados reales (solo difieren en ID)\n",
            "  → Se eliminaron los IDs: ['CL-11263']\n",
            "\n",
            "Posible grupo de duplicados:\n",
            "      ID Compra   Nombre   Apellido Electrodoméstico  Cantidad Fecha Compra  \\\n",
            "3      CL-00004  Gonzalo  Sebastián        Licuadora       3.0   2024-05-23   \n",
            "11253  CL-11254  Gonzalo  Sebastián        Licuadora       3.0   2024-05-23   \n",
            "\n",
            "      Hora Compra  \n",
            "3        15:39:00  \n",
            "11253    15:39:00  \n",
            "  → Estos registros parecen ser duplicados reales (solo difieren en ID)\n",
            "  → Se eliminaron los IDs: ['CL-11254']\n",
            "\n",
            "Posible grupo de duplicados:\n",
            "      ID Compra    Nombre Apellido Electrodoméstico  Cantidad Fecha Compra  \\\n",
            "9338   CL-09339  Graciela  Salgado         Lavadora       3.0   2024-03-14   \n",
            "11265  CL-11266  Graciela  Salgado         Lavadora       3.0   2024-03-14   \n",
            "\n",
            "      Hora Compra  \n",
            "9338     08:49:02  \n",
            "11265    08:49:02  \n",
            "  → Estos registros parecen ser duplicados reales (solo difieren en ID)\n",
            "  → Se eliminaron los IDs: ['CL-11266']\n",
            "\n",
            "Posible grupo de duplicados:\n",
            "      ID Compra Nombre Apellido Electrodoméstico  Cantidad Fecha Compra  \\\n",
            "218    CL-00219   Iker     Vera         Cafetera       4.0   2024-05-07   \n",
            "11257  CL-11258   Iker     Vera         Cafetera       4.0   2024-05-07   \n",
            "\n",
            "      Hora Compra  \n",
            "218      08:29:27  \n",
            "11257    08:29:27  \n",
            "  → Estos registros parecen ser duplicados reales (solo difieren en ID)\n",
            "  → Se eliminaron los IDs: ['CL-11258']\n",
            "\n",
            "Posible grupo de duplicados:\n",
            "      ID Compra  Nombre Apellido Electrodoméstico  Cantidad Fecha Compra  \\\n",
            "2252   CL-02253  Ileana    Camps        Licuadora       3.0   2024-12-22   \n",
            "11255  CL-11256  Ileana    Camps        Licuadora       3.0   2024-12-22   \n",
            "\n",
            "      Hora Compra  \n",
            "2252     07:57:04  \n",
            "11255    07:57:04  \n",
            "  → Estos registros parecen ser duplicados reales (solo difieren en ID)\n",
            "  → Se eliminaron los IDs: ['CL-11256']\n",
            "\n",
            "Posible grupo de duplicados:\n",
            "      ID Compra   Nombre Apellido Electrodoméstico  Cantidad Fecha Compra  \\\n",
            "5137   CL-05138  Jordana  Cabrera         Cafetera       5.0   2022-05-26   \n",
            "11273  CL-11274  Jordana  Cabrera         Cafetera       5.0   2022-05-26   \n",
            "\n",
            "      Hora Compra  \n",
            "5137     21:24:03  \n",
            "11273    21:24:03  \n",
            "  → Estos registros parecen ser duplicados reales (solo difieren en ID)\n",
            "  → Se eliminaron los IDs: ['CL-11274']\n",
            "\n",
            "Posible grupo de duplicados:\n",
            "      ID Compra Nombre Apellido Electrodoméstico  Cantidad Fecha Compra  \\\n",
            "4836   CL-04837   Luís  Cardona           Nevera       1.0   2024-08-10   \n",
            "11261  CL-11262   Luís  Cardona           Nevera       1.0   2024-08-10   \n",
            "\n",
            "      Hora Compra  \n",
            "4836     01:02:21  \n",
            "11261    01:02:21  \n",
            "  → Estos registros parecen ser duplicados reales (solo difieren en ID)\n",
            "  → Se eliminaron los IDs: ['CL-11262']\n",
            "\n",
            "Posible grupo de duplicados:\n",
            "      ID Compra  Nombre Apellido Electrodoméstico  Cantidad Fecha Compra  \\\n",
            "0      CL-00001  Marcia    Parra           Nevera       5.0   2023-07-12   \n",
            "11250  CL-11251  Marcia    Parra           Nevera       5.0   2023-07-12   \n",
            "\n",
            "      Hora Compra  \n",
            "0        03:27:54  \n",
            "11250    03:27:54  \n",
            "  → Estos registros parecen ser duplicados reales (solo difieren en ID)\n",
            "  → Se eliminaron los IDs: ['CL-11251']\n",
            "\n",
            "Posible grupo de duplicados:\n",
            "      ID Compra   Nombre Apellido Electrodoméstico  Cantidad Fecha Compra  \\\n",
            "9455   CL-09456  Maribel   Pastor         Lavadora       2.0   2022-05-23   \n",
            "11264  CL-11265  Maribel   Pastor         Lavadora       2.0   2022-05-23   \n",
            "\n",
            "      Hora Compra  \n",
            "9455     09:34:38  \n",
            "11264    09:34:38  \n",
            "  → Estos registros parecen ser duplicados reales (solo difieren en ID)\n",
            "  → Se eliminaron los IDs: ['CL-11265']\n",
            "\n",
            "Posible grupo de duplicados:\n",
            "      ID Compra Nombre Apellido Electrodoméstico  Cantidad Fecha Compra  \\\n",
            "9499   CL-09500   Nico  Barrios       Aspiradora       4.0   2022-02-22   \n",
            "11256  CL-11257   Nico  Barrios       Aspiradora       4.0   2022-02-22   \n",
            "\n",
            "      Hora Compra  \n",
            "9499     01:30:14  \n",
            "11256    01:30:14  \n",
            "  → Estos registros parecen ser duplicados reales (solo difieren en ID)\n",
            "  → Se eliminaron los IDs: ['CL-11257']\n",
            "\n",
            "Posible grupo de duplicados:\n",
            "      ID Compra     Nombre  Apellido Electrodoméstico  Cantidad Fecha Compra  \\\n",
            "4373   CL-04374  Prudencio  Quintero       Ventilador       2.0   2022-12-23   \n",
            "11274  CL-11275  Prudencio  Quintero       Ventilador       2.0   2022-12-23   \n",
            "\n",
            "      Hora Compra  \n",
            "4373     22:51:24  \n",
            "11274    22:51:24  \n",
            "  → Estos registros parecen ser duplicados reales (solo difieren en ID)\n",
            "  → Se eliminaron los IDs: ['CL-11275']\n",
            "\n",
            "Posible grupo de duplicados:\n",
            "      ID Compra  Nombre Apellido Electrodoméstico  Cantidad Fecha Compra  \\\n",
            "10022  CL-10023  Sarita    Pavón        Televisor       4.0   2024-01-06   \n",
            "11266  CL-11267  Sarita    Pavón        Televisor       4.0   2024-01-06   \n",
            "\n",
            "      Hora Compra  \n",
            "10022    06:25:50  \n",
            "11266    06:25:50  \n",
            "  → Estos registros parecen ser duplicados reales (solo difieren en ID)\n",
            "  → Se eliminaron los IDs: ['CL-11267']\n",
            "\n",
            "Posible grupo de duplicados:\n",
            "      ID Compra Nombre Apellido Electrodoméstico  Cantidad Fecha Compra  \\\n",
            "1501   CL-01502  Trini    Gallo       Microondas       3.0   2023-08-29   \n",
            "11271  CL-11272  Trini    Gallo       Microondas       3.0   2023-08-29   \n",
            "\n",
            "      Hora Compra  \n",
            "1501     01:20:59  \n",
            "11271    01:20:59  \n",
            "  → Estos registros parecen ser duplicados reales (solo difieren en ID)\n",
            "  → Se eliminaron los IDs: ['CL-11272']\n",
            "\n",
            "Posible grupo de duplicados:\n",
            "      ID Compra Nombre  Apellido Electrodoméstico  Cantidad Fecha Compra  \\\n",
            "5833   CL-05834   Vito  Guerrero  Horno eléctrico       4.0   2022-06-01   \n",
            "11263  CL-11264   Vito  Guerrero  Horno eléctrico       4.0   2022-06-01   \n",
            "\n",
            "      Hora Compra  \n",
            "5833     18:17:32  \n",
            "11263    18:17:32  \n",
            "  → Estos registros parecen ser duplicados reales (solo difieren en ID)\n",
            "  → Se eliminaron los IDs: ['CL-11264']\n",
            "\n",
            "Registros finales después de eliminar duplicados: 11232\n"
          ]
        }
      ]
    },
    {
      "cell_type": "code",
      "source": [
        "# Cargar el DataFrame de la celda anterior\n",
        "try:\n",
        "    df = pd.read_pickle('df_limpio_temp.pkl')\n",
        "except:\n",
        "    # Si no existe, ejecutar las celdas anteriores primero\n",
        "    print(\"Por favor, ejecuta las celdas anteriores primero\")\n",
        "\n",
        "#df['Fecha Compra'] = pd.to_datetime(df['Fecha Compra'])\n",
        "\n",
        "# 1. Crear columna de año de compra\n",
        "df['Año Compra'] = df['Fecha Compra'].dt.year\n",
        "print(\"Columna 'Año Compra' creada\")\n",
        "\n",
        "# 2. Crear columna de mes de compra\n",
        "df['Mes Compra'] = df['Fecha Compra'].dt.month\n",
        "print(\"Columna 'Mes Compra' creada\")\n",
        "\n",
        "# También agregar el nombre del mes para mayor claridad\n",
        "df['Nombre Mes'] = df['Fecha Compra'].dt.month_name()\n",
        "print(\"Columna 'Nombre Mes' creada\")\n",
        "\n",
        "# 3. Crear columna de hora de compra (solo hora)\n",
        "df['Hora'] = df['Hora Compra'].str.split(':').str[0].astype(int)\n",
        "print(\"Columna 'Hora' creada\")\n",
        "\n",
        "# 4. Crear columna de valor medio por unidad\n",
        "df['valor medio por unidad'] = df['Valor Total'] / df['Cantidad']\n",
        "\n",
        "# Mostrar las primeras filas con las nuevas columnas\n",
        "print(\"\\nDataFrame con las nuevas columnas:\")\n",
        "print(df[['ID Compra', 'Año Compra', 'Mes Compra', 'Nombre Mes', 'Hora']].head())\n",
        "\n",
        "# Guardar el DataFrame para la siguiente celda\n",
        "df.to_pickle('df_limpio_temp.pkl')"
      ],
      "metadata": {
        "colab": {
          "base_uri": "https://localhost:8080/"
        },
        "id": "REIhz90yFYdZ",
        "outputId": "cc81786a-cc46-4f2b-f04d-608ca9378301"
      },
      "execution_count": null,
      "outputs": [
        {
          "output_type": "stream",
          "name": "stdout",
          "text": [
            "Columna 'Año Compra' creada\n",
            "Columna 'Mes Compra' creada\n",
            "Columna 'Nombre Mes' creada\n",
            "Columna 'Hora' creada\n",
            "\n",
            "DataFrame con las nuevas columnas:\n",
            "  ID Compra  Año Compra  Mes Compra Nombre Mes  Hora\n",
            "0  CL-00001        2023           7       July     3\n",
            "1  CL-00002        2023           1    January     4\n",
            "2  CL-00003        2022           9  September    20\n",
            "3  CL-00004        2024           5        May    15\n",
            "4  CL-00005        2022           9  September    13\n"
          ]
        }
      ]
    },
    {
      "cell_type": "code",
      "source": [
        "# 6. Clasificar electrodomésticos por categoría\n",
        "try:\n",
        "    df = pd.read_pickle('df_limpio_temp.pkl')\n",
        "except:\n",
        "    # Si no existe, ejecutar las celdas anteriores primero\n",
        "    print(\"Por favor, ejecuta las celdas anteriores primero\")\n",
        "\n",
        "categoria_map = {\n",
        "    'Nevera': 'Cocina', 'Licuadora': 'Cocina', 'Estufa': 'Cocina', 'Cafetera': 'Cocina', 'Horno eléctrico': 'Cocina',\n",
        "    'Microondas': 'Cocina', 'Lavadora': 'Limpieza', 'Aspiradora': 'Limpieza', 'Secadora': 'Limpieza',\n",
        "    'Plancha': 'Limpieza', 'Televisor': 'Confort', 'Aire Acondicionado': 'Confort', 'Ventilador': 'Confort'\n",
        "}\n",
        "df['Categoría'] = df['Electrodoméstico'].map(categoria_map).fillna('Otros')\n",
        "print(\"Columna 'Categoría' creada\")\n",
        "\n",
        "# Guardar el DataFrame para la siguiente celda\n",
        "df.to_pickle('df_limpio_temp.pkl')"
      ],
      "metadata": {
        "colab": {
          "base_uri": "https://localhost:8080/"
        },
        "id": "y9xe7Nc0OP_O",
        "outputId": "41b016f5-73e4-4a49-f74f-ceb9c49628be"
      },
      "execution_count": null,
      "outputs": [
        {
          "output_type": "stream",
          "name": "stdout",
          "text": [
            "Columna 'Categoría' creada\n"
          ]
        }
      ]
    },
    {
      "cell_type": "code",
      "source": [
        "# 7.Generar un Excel nuevo con todas las transformaciones realizadas\n",
        "df.to_pickle('df_procesado.pkl')\n",
        "try:\n",
        "    df.to_excel('Dataset_Clientes_Colombia_Procesado.xlsx', index=False)\n",
        "    print(\"\\nDataFrame final guardado como 'Dataset_Clientes_Colombia_Procesado.xlsx'\")\n",
        "except:\n",
        "    print(\"\\nNo se pudo guardar el archivo Excel, pero los datos están disponibles en el DataFrame\")"
      ],
      "metadata": {
        "colab": {
          "base_uri": "https://localhost:8080/"
        },
        "id": "cOwgJOUKO3Rc",
        "outputId": "1ecf0174-593c-4f51-833f-59a4390d1b55"
      },
      "execution_count": null,
      "outputs": [
        {
          "output_type": "stream",
          "name": "stdout",
          "text": [
            "\n",
            "DataFrame final guardado como 'Dataset_Clientes_Colombia_Procesado.xlsx'\n"
          ]
        }
      ]
    },
    {
      "cell_type": "code",
      "source": [
        "# Eliminar archivo temporal\n",
        "try:\n",
        "    os.remove('df_limpio_temp.pkl')\n",
        "except:\n",
        "    pass\n",
        "\n",
        "print(\"\\nProcesamiento de datos completado exitosamente!\")"
      ],
      "metadata": {
        "colab": {
          "base_uri": "https://localhost:8080/"
        },
        "id": "whAFXOIOPghm",
        "outputId": "3a7c2b1d-646c-4e8b-9c53-de1a0eb4fd95"
      },
      "execution_count": null,
      "outputs": [
        {
          "output_type": "stream",
          "name": "stdout",
          "text": [
            "\n",
            "Procesamiento de datos completado exitosamente!\n"
          ]
        }
      ]
    },
    {
      "cell_type": "markdown",
      "source": [
        "**Encontrar hallazgos con Pandas:**\n",
        "\n",
        "Responde las siguientes 20 preguntas analíticas usando el dataset transformado:"
      ],
      "metadata": {
        "id": "1QMlwS-hSZS-"
      }
    },
    {
      "cell_type": "code",
      "source": [
        "# 1. Electrodoméstico más vendido por cantidad\n",
        "electro_mas_vendido = df.groupby(\"Electrodoméstico\")[\"Cantidad\"].sum().idxmax()\n",
        "print(f\"El electrodoméstico más vendido por cantidad es: {electro_mas_vendido}\")"
      ],
      "metadata": {
        "colab": {
          "base_uri": "https://localhost:8080/"
        },
        "id": "rQXFfFP-SY05",
        "outputId": "b4f3a414-8f2d-4ccc-aee3-d72109f399b6"
      },
      "execution_count": null,
      "outputs": [
        {
          "output_type": "stream",
          "name": "stdout",
          "text": [
            "El electrodoméstico más vendido por cantidad es: Plancha\n"
          ]
        }
      ]
    },
    {
      "cell_type": "code",
      "source": [
        "# 2. Electrodoméstico que generó más ingresos\n",
        "electro_mas_ingresos = df.groupby(\"Electrodoméstico\")[\"Valor Total\"].sum().idxmax()\n",
        "print(f\"El electrodoméstico que generó más ingresos es: {electro_mas_ingresos}\")"
      ],
      "metadata": {
        "colab": {
          "base_uri": "https://localhost:8080/"
        },
        "id": "Ur71njp2TlP8",
        "outputId": "19097ae2-7e06-4257-dbba-6de760ea2674"
      },
      "execution_count": null,
      "outputs": [
        {
          "output_type": "stream",
          "name": "stdout",
          "text": [
            "El electrodoméstico que generó más ingresos es: Nevera\n"
          ]
        }
      ]
    },
    {
      "cell_type": "code",
      "source": [
        "# 3. Ticket promedio por compra\n",
        "ticket_promedio = df[\"Valor Total\"].mean()\n",
        "print(f\"El ticket promedio por compra es: {ticket_promedio}\")"
      ],
      "metadata": {
        "colab": {
          "base_uri": "https://localhost:8080/"
        },
        "id": "Lyis7dgxTsYM",
        "outputId": "1566bc0e-66a7-4860-bbe3-3b62b8ae7176"
      },
      "execution_count": null,
      "outputs": [
        {
          "output_type": "stream",
          "name": "stdout",
          "text": [
            "El ticket promedio por compra es: 2050467.4145299145\n"
          ]
        }
      ]
    },
    {
      "cell_type": "code",
      "source": [
        "# 4. Compras realizadas por año\n",
        "compras_por_anio = df[\"Año Compra\"].value_counts().to_dict()\n",
        "print(\"Compras realizadas por año:\")\n",
        "print(compras_por_anio)"
      ],
      "metadata": {
        "colab": {
          "base_uri": "https://localhost:8080/"
        },
        "id": "u1BSIaKsUC44",
        "outputId": "36261338-53ac-4b52-e5fa-a24aab783094"
      },
      "execution_count": null,
      "outputs": [
        {
          "output_type": "stream",
          "name": "stdout",
          "text": [
            "Compras realizadas por año:\n",
            "{2024: 3765, 2022: 3739, 2023: 3728}\n"
          ]
        }
      ]
    },
    {
      "cell_type": "code",
      "source": [
        "# 5. Compras realizadas por mes\n",
        "compras_por_mes = df[\"Nombre Mes\"].value_counts().to_dict()\n",
        "print(\"Compras realizadas por mes:\")\n",
        "print(compras_por_mes)"
      ],
      "metadata": {
        "colab": {
          "base_uri": "https://localhost:8080/"
        },
        "id": "qNBRYEKWUUZV",
        "outputId": "cf62b5ad-1d7f-4451-96e3-dc3521bdea17"
      },
      "execution_count": null,
      "outputs": [
        {
          "output_type": "stream",
          "name": "stdout",
          "text": [
            "Compras realizadas por mes:\n",
            "{'August': 1033, 'January': 1001, 'November': 968, 'October': 944, 'July': 938, 'May': 936, 'December': 933, 'September': 919, 'June': 918, 'March': 906, 'April': 891, 'February': 845}\n"
          ]
        }
      ]
    },
    {
      "cell_type": "code",
      "source": [
        "# 6. Hora del día con más compras\n",
        "hora_mas_compras = df[\"Hora\"].value_counts().idxmax()\n",
        "print(f\"La hora del día con más compras es: {hora_mas_compras}\")"
      ],
      "metadata": {
        "colab": {
          "base_uri": "https://localhost:8080/"
        },
        "id": "pleZLHi-UpcH",
        "outputId": "3509db6e-3600-40d9-ffd3-8fdddb02cdac"
      },
      "execution_count": null,
      "outputs": [
        {
          "output_type": "stream",
          "name": "stdout",
          "text": [
            "La hora del día con más compras es: 12\n"
          ]
        }
      ]
    },
    {
      "cell_type": "code",
      "source": [
        "# 7. Cliente que compró más unidades\n",
        "cliente_mas_unidades = df.groupby([\"Nombre\", \"Apellido\"])[\"Cantidad\"].sum().idxmax()\n",
        "print(f\"El cliente que compró más unidades es: {cliente_mas_unidades}\")"
      ],
      "metadata": {
        "colab": {
          "base_uri": "https://localhost:8080/"
        },
        "id": "KlftoIcfU3OO",
        "outputId": "abf95eae-1bb5-41c6-cfd0-f6942f536728"
      },
      "execution_count": null,
      "outputs": [
        {
          "output_type": "stream",
          "name": "stdout",
          "text": [
            "El cliente que compró más unidades es: ('Dafne', 'Álvarez')\n"
          ]
        }
      ]
    },
    {
      "cell_type": "code",
      "source": [
        "# 8. Compras con valor total mayor a $5,000,000\n",
        "compras_mayores_5M = (df[\"Valor Total\"] > 5000000).sum()\n",
        "print(f\"El número de compras con valor total mayor a $5,000,000 es: {compras_mayores_5M}\")"
      ],
      "metadata": {
        "colab": {
          "base_uri": "https://localhost:8080/"
        },
        "id": "Se-VRktcVGM1",
        "outputId": "3eea8a59-9f6b-43cf-f94a-acd1a710a13e"
      },
      "execution_count": null,
      "outputs": [
        {
          "output_type": "stream",
          "name": "stdout",
          "text": [
            "El número de compras con valor total mayor a $5,000,000 es: 1322\n"
          ]
        }
      ]
    },
    {
      "cell_type": "code",
      "source": [
        "# 9. Media y mediana del Valor Unitario\n",
        "media_valor_unitario = df[\"Valor Unitario\"].mean()\n",
        "mediana_valor_unitario = df[\"Valor Unitario\"].median()\n",
        "print(f\"La media del Valor Unitario es: {media_valor_unitario}\")\n",
        "print(f\"La mediana del Valor Unitario es: {mediana_valor_unitario}\")"
      ],
      "metadata": {
        "colab": {
          "base_uri": "https://localhost:8080/"
        },
        "id": "dmxzOLQNVQgb",
        "outputId": "f276edcf-bd26-4bbc-b7e8-934137194be1"
      },
      "execution_count": null,
      "outputs": [
        {
          "output_type": "stream",
          "name": "stdout",
          "text": [
            "La media del Valor Unitario es: 687753.7393162394\n",
            "La mediana del Valor Unitario es: 400000.0\n"
          ]
        }
      ]
    },
    {
      "cell_type": "code",
      "source": [
        "# 10. Compras sin nombre de cliente registrado\n",
        "compras_sin_nombre = df[\"Nombre\"].isna().sum()\n",
        "print(f\"El número de compras sin nombre de cliente registrado es: {compras_sin_nombre}\")"
      ],
      "metadata": {
        "colab": {
          "base_uri": "https://localhost:8080/"
        },
        "id": "yh58nzm3VZVe",
        "outputId": "b69c05b1-7b3e-4c77-d356-a274dc08bbaf"
      },
      "execution_count": null,
      "outputs": [
        {
          "output_type": "stream",
          "name": "stdout",
          "text": [
            "El número de compras sin nombre de cliente registrado es: 0\n"
          ]
        }
      ]
    },
    {
      "cell_type": "markdown",
      "source": [
        "Para la anterior consulta arroja 0 debido a que con anterioridad se realizo una limpieza y transformacion basada en el nombre, 1 de los clientes no registraba nombre y se homologo al apellido, el resto que no registraba nombre se tomaron como registros sin valos ya que no presentaban datos en la mayoria de sus celdas.\n",
        "\n",
        "Imputando valores nulos en 'Nombre':\n",
        "\n",
        "Registros con nombre nulo antes de la imputación:\n",
        "\n",
        "     ID Compra Nombre Apellido Electrodoméstico\n",
        "    CL-00003    NaN   Dueñas  Horno eléctrico\n",
        "    CL-00322    NaN      NaN              NaN\n",
        "    CL-00857    NaN      NaN              NaN\n",
        "    CL-00908    NaN      NaN              NaN\n",
        "    CL-01062    NaN      NaN              NaN\n",
        "    CL-01079    NaN      NaN              NaN\n",
        "    CL-01312    NaN      NaN              NaN\n",
        "    CL-01344    NaN      NaN              NaN\n",
        "    CL-02010    NaN      NaN              NaN\n",
        "    CL-03356    NaN      NaN              NaN\n",
        "    CL-04809    NaN      NaN              NaN\n",
        "    CL-05624    NaN      NaN              NaN\n",
        "    CL-05639    NaN      NaN              NaN\n",
        "    CL-05801    NaN      NaN              NaN\n",
        "    CL-06324    NaN      NaN              NaN\n",
        "    CL-08535    NaN      NaN              NaN\n",
        "    CL-09318    NaN      NaN              NaN\n",
        "    CL-09557    NaN      NaN              NaN\n",
        "    CL-09616    NaN      NaN              NaN\n",
        "    CL-09670    NaN      NaN              NaN\n",
        "    CL-09887    NaN      NaN              NaN"
      ],
      "metadata": {
        "id": "eQdYTfwRV0g6"
      }
    },
    {
      "cell_type": "code",
      "source": [
        "# 11. Producto más común en compras duplicadas\n",
        "# Filtrar compras duplicadas\n",
        "productos_duplicados = df[df.duplicated(subset=[\"ID Compra\"], keep=False)][\"Electrodoméstico\"].mode()\n",
        "\n",
        "# Verificar si hay resultados antes de acceder a iloc[0]\n",
        "if not productos_duplicados.empty:\n",
        "    print(f\"El producto más común en compras duplicadas es: {productos_duplicados.iloc[0]}\")\n",
        "else:\n",
        "    print(\"No hay compras duplicadas en el dataset.\")\n"
      ],
      "metadata": {
        "colab": {
          "base_uri": "https://localhost:8080/"
        },
        "id": "FiAGaXvsWS6J",
        "outputId": "84f06af4-37db-4487-c064-36169de785e0"
      },
      "execution_count": null,
      "outputs": [
        {
          "output_type": "stream",
          "name": "stdout",
          "text": [
            "No hay compras duplicadas en el dataset.\n"
          ]
        }
      ]
    },
    {
      "cell_type": "code",
      "source": [
        "# 12. Relación entre cantidad y valor total (correlación)\n",
        "correlacion_cantidad_valor = df[[\"Cantidad\", \"Valor Total\"]].corr().iloc[0,1]\n",
        "print(f\"La correlación entre Cantidad y Valor Total es: {correlacion_cantidad_valor}\")"
      ],
      "metadata": {
        "colab": {
          "base_uri": "https://localhost:8080/"
        },
        "id": "oYuB2K5uZLWV",
        "outputId": "8d53b173-06ca-4d78-ca7b-b5645629c783"
      },
      "execution_count": null,
      "outputs": [
        {
          "output_type": "stream",
          "name": "stdout",
          "text": [
            "La correlación entre Cantidad y Valor Total es: 0.46508794528856195\n"
          ]
        }
      ]
    },
    {
      "cell_type": "code",
      "source": [
        "# 13. Número de categorías de electrodomésticos\n",
        "num_categorias = df[\"Categoría\"].nunique()\n",
        "print(f\"El número de categorías de electrodomésticos es: {num_categorias}\")"
      ],
      "metadata": {
        "colab": {
          "base_uri": "https://localhost:8080/"
        },
        "id": "RwGFtCkWZ2By",
        "outputId": "b54ba195-0711-4a52-edc9-c7e82f65db03"
      },
      "execution_count": null,
      "outputs": [
        {
          "output_type": "stream",
          "name": "stdout",
          "text": [
            "El número de categorías de electrodomésticos es: 4\n"
          ]
        }
      ]
    },
    {
      "cell_type": "code",
      "source": [
        "# 14. Categoría que vende más\n",
        "categoria_mas_vendida = df.groupby(\"Categoría\")[\"Cantidad\"].sum().idxmax()\n",
        "print(f\"La categoría que vende más es: {categoria_mas_vendida}\")"
      ],
      "metadata": {
        "colab": {
          "base_uri": "https://localhost:8080/"
        },
        "id": "j6hx-naVZ6y0",
        "outputId": "1ef8710e-3b66-4da2-90da-3fc68269ef7a"
      },
      "execution_count": null,
      "outputs": [
        {
          "output_type": "stream",
          "name": "stdout",
          "text": [
            "La categoría que vende más es: Cocina\n"
          ]
        }
      ]
    },
    {
      "cell_type": "code",
      "source": [
        "# 15. Meses con más compras (estacionalidad)\n",
        "meses_mas_compras = df[\"Nombre Mes\"].value_counts().sort_values(ascending=False)\n",
        "print(f\"Los meses con más compras son: {meses_mas_compras}\")"
      ],
      "metadata": {
        "colab": {
          "base_uri": "https://localhost:8080/"
        },
        "id": "Qc9vuaDLaD36",
        "outputId": "014a22ae-119f-4b80-975f-0fa85315f4bc"
      },
      "execution_count": null,
      "outputs": [
        {
          "output_type": "stream",
          "name": "stdout",
          "text": [
            "Los meses con más compras son: Nombre Mes\n",
            "August       1033\n",
            "January      1001\n",
            "November      968\n",
            "October       944\n",
            "July          938\n",
            "May           936\n",
            "December      933\n",
            "September     919\n",
            "June          918\n",
            "March         906\n",
            "April         891\n",
            "February      845\n",
            "Name: count, dtype: int64\n"
          ]
        }
      ]
    },
    {
      "cell_type": "code",
      "source": [
        "# 16. Proporción entre compras de lavadoras y neveras\n",
        "lavadoras = df[df[\"Electrodoméstico\"] == \"Lavadora\"][\"Cantidad\"].sum()\n",
        "neveras = df[df[\"Electrodoméstico\"] == \"Nevera\"][\"Cantidad\"].sum()\n",
        "proporcion_lavadoras_neveras = lavadoras / neveras if neveras != 0 else \"No hay neveras en el dataset\"\n",
        "print(f\"La proporción entre compras de lavadoras y neveras es: {proporcion_lavadoras_neveras}\")"
      ],
      "metadata": {
        "colab": {
          "base_uri": "https://localhost:8080/"
        },
        "id": "jzm0CupfaIMZ",
        "outputId": "e7381709-be43-41dd-ce26-c298619809a1"
      },
      "execution_count": null,
      "outputs": [
        {
          "output_type": "stream",
          "name": "stdout",
          "text": [
            "La proporción entre compras de lavadoras y neveras es: 0.9823269513991163\n"
          ]
        }
      ]
    },
    {
      "cell_type": "code",
      "source": [
        "# 17. Comparación de compras entre cocina y Confort\n",
        "compras_cocina = df[df['Categoría'] == 'Cocina'].shape[0]\n",
        "compras_Confort = df[df['Categoría'] == 'Confort'].shape[0]\n",
        "\n",
        "print(f\"Compras de productos de cocina: {compras_cocina}\")\n",
        "print(f\"Compras de productos de Confort: {compras_Confort}\")\n",
        "print(f\"Relación cocina vs. Confort: {compras_cocina}/{compras_Confort}\")"
      ],
      "metadata": {
        "colab": {
          "base_uri": "https://localhost:8080/"
        },
        "id": "q10dVnLNc7oj",
        "outputId": "6265d316-3a8e-4383-8019-f7d32b68b4a7"
      },
      "execution_count": null,
      "outputs": [
        {
          "output_type": "stream",
          "name": "stdout",
          "text": [
            "Compras de productos de cocina: 5638\n",
            "Compras de productos de Confort: 2178\n",
            "Relación cocina vs. Confort: 5638/2178\n"
          ]
        }
      ]
    },
    {
      "cell_type": "code",
      "source": [
        "# 18. Total de productos vendidos\n",
        "total_productos_vendidos = df[\"Cantidad\"].sum()\n",
        "print(f\"El total de productos vendidos es: {total_productos_vendidos}\")"
      ],
      "metadata": {
        "colab": {
          "base_uri": "https://localhost:8080/"
        },
        "id": "G7e9s3GLd9wj",
        "outputId": "c7a41fee-bf4d-4c4d-e7ee-e23a02ea89b0"
      },
      "execution_count": null,
      "outputs": [
        {
          "output_type": "stream",
          "name": "stdout",
          "text": [
            "El total de productos vendidos es: 33452.0\n"
          ]
        }
      ]
    },
    {
      "cell_type": "code",
      "source": [
        "# 19. Promedio de productos por compra\n",
        "promedio_productos_por_compra = df[\"Cantidad\"].mean()\n",
        "print(f\"Promedio de productos por compra: {promedio_productos_por_compra:.2f} %\")"
      ],
      "metadata": {
        "colab": {
          "base_uri": "https://localhost:8080/"
        },
        "id": "FjyZYQU8eQAA",
        "outputId": "a99d71ba-6257-410a-b46f-aa813ea70ac4"
      },
      "execution_count": null,
      "outputs": [
        {
          "output_type": "stream",
          "name": "stdout",
          "text": [
            "Promedio de productos por compra: 2.98 %\n"
          ]
        }
      ]
    },
    {
      "cell_type": "code",
      "source": [
        "# 20. Porcentaje de compras con más de una unidad\n",
        "# Contar compras con más de una unidad\n",
        "compras_multiple = df[df['Cantidad'] > 1].shape[0]\n",
        "total_compras = df.shape[0]\n",
        "\n",
        "# Calcular el porcentaje\n",
        "porcentaje = (compras_multiple / total_compras) * 100\n",
        "\n",
        "print(f\"Porcentaje de compras con más de una unidad: {porcentaje:.2f} %\")"
      ],
      "metadata": {
        "colab": {
          "base_uri": "https://localhost:8080/"
        },
        "id": "Bt6pEH4NfECt",
        "outputId": "1895e60d-7ff6-4313-ac66-a3ac03861254"
      },
      "execution_count": null,
      "outputs": [
        {
          "output_type": "stream",
          "name": "stdout",
          "text": [
            "Porcentaje de compras con más de una unidad: 79.55 %\n"
          ]
        }
      ]
    },
    {
      "cell_type": "markdown",
      "source": [
        "**Preguntas de Negocio**"
      ],
      "metadata": {
        "id": "XTDF2D5kfdwx"
      }
    },
    {
      "cell_type": "markdown",
      "source": [
        "1. ¿Qué productos debería promocionar la empresa en temporadas altas?"
      ],
      "metadata": {
        "id": "JpB9XFZkhALG"
      }
    },
    {
      "cell_type": "code",
      "source": [
        "ventas_por_mes = df.groupby('Nombre Mes')['Valor Total'].sum().sort_values(ascending=False)\n",
        "temporadas_altas = ventas_por_mes.head(3).index.tolist()\n",
        "\n",
        "print(f\"Temporadas altas identificadas: {temporadas_altas}\")\n",
        "\n",
        "# Productos más vendidos en temporadas altas (por cantidad)\n",
        "productos_temporada_alta = df[df['Nombre Mes'].isin(temporadas_altas)]\n",
        "productos_populares = productos_temporada_alta.groupby('Electrodoméstico')['Cantidad'].sum().sort_values(ascending=False)\n",
        "\n",
        "print(\"\\nProductos más vendidos en temporadas altas (por cantidad):\")\n",
        "print(productos_populares.head(5))\n",
        "\n",
        "# Productos más rentables en temporadas altas (por valor total)\n",
        "productos_rentables = productos_temporada_alta.groupby('Electrodoméstico')['Valor Total'].sum().sort_values(ascending=False)\n",
        "\n",
        "print(\"\\nProductos más rentables en temporadas altas (por valor total):\")\n",
        "print(productos_rentables.head(5))"
      ],
      "metadata": {
        "colab": {
          "base_uri": "https://localhost:8080/"
        },
        "id": "mZgpIGmfg2uk",
        "outputId": "0aca7040-f47a-4d50-d9c8-ba1af16f3371"
      },
      "execution_count": null,
      "outputs": [
        {
          "output_type": "stream",
          "name": "stdout",
          "text": [
            "Temporadas altas identificadas: ['August', 'November', 'July']\n",
            "\n",
            "Productos más vendidos en temporadas altas (por cantidad):\n",
            "Electrodoméstico\n",
            "Nevera        927.0\n",
            "Plancha       926.0\n",
            "Microondas    912.0\n",
            "Televisor     904.0\n",
            "Aspiradora    890.0\n",
            "Name: Cantidad, dtype: float64\n",
            "\n",
            "Productos más rentables en temporadas altas (por valor total):\n",
            "Electrodoméstico\n",
            "Nevera             1668600000\n",
            "Lavadora           1318500000\n",
            "Televisor          1084800000\n",
            "Aspiradora          534000000\n",
            "Horno eléctrico     405500000\n",
            "Name: Valor Total, dtype: int64\n"
          ]
        }
      ]
    },
    {
      "cell_type": "markdown",
      "source": [
        "2. ¿Hay clientes frecuentes o con tickets altos a los que se podría fidelizar?"
      ],
      "metadata": {
        "id": "wAIyCV24hE8I"
      }
    },
    {
      "cell_type": "code",
      "source": [
        "cliente_frecuencia = df.groupby(['Nombre', 'Apellido']).size().sort_values(ascending=False)\n",
        "\n",
        "print(\"Clientes con mayor frecuencia de compra:\")\n",
        "print(cliente_frecuencia.head(10))\n",
        "\n",
        "# Análisis de clientes por valor total de compras\n",
        "cliente_valor = df.groupby(['Nombre', 'Apellido'])['Valor Total'].sum().sort_values(ascending=False)\n",
        "\n",
        "print(\"\\nClientes con mayor valor total de compras:\")\n",
        "print(cliente_valor.head(10))\n",
        "\n",
        "# Identificar clientes premium (alta frecuencia y alto valor)\n",
        "# Primero normalizar ambas métricas\n",
        "norm_frecuencia = (cliente_frecuencia - cliente_frecuencia.min()) / (cliente_frecuencia.max() - cliente_frecuencia.min())\n",
        "norm_valor = (cliente_valor - cliente_valor.min()) / (cliente_valor.max() - cliente_valor.min())\n",
        "\n",
        "# Crear un score combinado\n",
        "cliente_score = norm_frecuencia + norm_valor\n",
        "\n",
        "print(\"\\nClientes premium para programa de fidelización:\")\n",
        "print(cliente_score.sort_values(ascending=False).head(15))"
      ],
      "metadata": {
        "colab": {
          "base_uri": "https://localhost:8080/"
        },
        "id": "5lFs0giMhJk6",
        "outputId": "48281389-8f6b-491a-cb74-56d2ff4229c0"
      },
      "execution_count": null,
      "outputs": [
        {
          "output_type": "stream",
          "name": "stdout",
          "text": [
            "Clientes con mayor frecuencia de compra:\n",
            "Nombre    Apellido  \n",
            "Isidora   Montserrat    2\n",
            "Emma      Durán         2\n",
            "Dulce     Franco        2\n",
            "Ana       Sandoval      2\n",
            "Joan      Cifuentes     2\n",
            "Teresita  Macias        2\n",
            "Jenny     Cuevas        2\n",
            "Zaira     Gomis         2\n",
            "Marina    Beltrán       2\n",
            "Modesto   Chacón        2\n",
            "dtype: int64\n",
            "\n",
            "Clientes con mayor valor total de compras:\n",
            "Nombre    Apellido \n",
            "Pastor    Cifuentes    14400000\n",
            "Amparo    Artigas      13500000\n",
            "Cristian  Manrique     12900000\n",
            "Raúl      Pou          11400000\n",
            "Dafne     Álvarez      11000000\n",
            "Áurea     Nicolau       9600000\n",
            "Agapito   Mínguez       9300000\n",
            "Joan      Cifuentes     9200000\n",
            "Abraham   Perera        9000000\n",
            "Zacarías  Iborra        9000000\n",
            "Name: Valor Total, dtype: int64\n",
            "\n",
            "Clientes premium para programa de fidelización:\n",
            "Nombre      Apellido \n",
            "Pastor      Cifuentes    2.000000\n",
            "Amparo      Artigas      1.936842\n",
            "Cristian    Manrique     1.894737\n",
            "Raúl        Pou          1.789474\n",
            "Dafne       Álvarez      1.761404\n",
            "Áurea       Nicolau      1.663158\n",
            "Agapito     Mínguez      1.642105\n",
            "Joan        Cifuentes    1.635088\n",
            "Marcos      Alcolea      1.621053\n",
            "José Ángel  Gutiérrez    1.600000\n",
            "Miguel      Rojas        1.578947\n",
            "Gabriel     Bauz         1.578947\n",
            "Jenny       Cuevas       1.557895\n",
            "Calixto     Bas          1.550877\n",
            "Ani         Ibáñez       1.547368\n",
            "dtype: float64\n"
          ]
        }
      ]
    },
    {
      "cell_type": "markdown",
      "source": [
        "3. ¿Vale la pena mantener todos los productos en el portafolio?"
      ],
      "metadata": {
        "id": "fnEXHPaKhZrO"
      }
    },
    {
      "cell_type": "code",
      "source": [
        "rentabilidad_producto = df.groupby('Electrodoméstico').agg({\n",
        "    'Cantidad': 'sum',\n",
        "    'Valor Total': 'sum'\n",
        "}).sort_values('Valor Total', ascending=False)\n",
        "\n",
        "# Calcular el porcentaje acumulado de la rentabilidad\n",
        "rentabilidad_producto['Porcentaje'] = rentabilidad_producto['Valor Total'] / rentabilidad_producto['Valor Total'].sum() * 100\n",
        "rentabilidad_producto['Porcentaje_Acumulado'] = rentabilidad_producto['Porcentaje'].cumsum()\n",
        "\n",
        "print(\"Análisis de rentabilidad por producto:\")\n",
        "print(rentabilidad_producto)\n",
        "\n",
        "# Identificar productos poco rentables (último 20% de ventas)\n",
        "productos_poco_rentables = rentabilidad_producto[rentabilidad_producto['Porcentaje_Acumulado'] > 80]\n",
        "\n",
        "print(\"\\nProductos a considerar revisar o eliminar del portafolio:\")\n",
        "print(productos_poco_rentables)\n",
        "\n",
        "# Análisis de ventas por categoría\n",
        "ventas_categoria = df.groupby('Categoría').agg({\n",
        "    'Cantidad': 'sum',\n",
        "    'Valor Total': 'sum'\n",
        "}).sort_values('Valor Total', ascending=False)\n",
        "\n",
        "print(\"\\nDesempeño por categoría:\")\n",
        "print(ventas_categoria)"
      ],
      "metadata": {
        "colab": {
          "base_uri": "https://localhost:8080/"
        },
        "id": "weGa10bQhbxA",
        "outputId": "d63160ea-48d7-4ac1-91d7-bd625e74db6f"
      },
      "execution_count": null,
      "outputs": [
        {
          "output_type": "stream",
          "name": "stdout",
          "text": [
            "Análisis de rentabilidad por producto:\n",
            "                      Cantidad  Valor Total  Porcentaje  Porcentaje_Acumulado\n",
            "Electrodoméstico                                                             \n",
            "Nevera                  3395.0   6111000000   26.533975             26.533975\n",
            "Lavadora                3335.0   5002500000   21.720866             48.254841\n",
            "Televisor               3272.0   3926400000   17.048437             65.303278\n",
            "Aspiradora              3341.0   2004600000    8.703977             74.007255\n",
            "Horno eléctrico         3183.0   1591500000    6.910296             80.917552\n",
            "Microondas              3389.0   1355600000    5.886018             86.803570\n",
            "Cafetera                3344.0   1003200000    4.355897             91.159467\n",
            "Licuadora               3440.0    860000000    3.734122             94.893588\n",
            "Ventilador              3241.0    648200000    2.814486             97.708074\n",
            "Plancha                 3511.0    526650000    2.286715             99.994790\n",
            "Producto Desconocido       1.0      1200000    0.005210            100.000000\n",
            "\n",
            "Productos a considerar revisar o eliminar del portafolio:\n",
            "                      Cantidad  Valor Total  Porcentaje  Porcentaje_Acumulado\n",
            "Electrodoméstico                                                             \n",
            "Horno eléctrico         3183.0   1591500000    6.910296             80.917552\n",
            "Microondas              3389.0   1355600000    5.886018             86.803570\n",
            "Cafetera                3344.0   1003200000    4.355897             91.159467\n",
            "Licuadora               3440.0    860000000    3.734122             94.893588\n",
            "Ventilador              3241.0    648200000    2.814486             97.708074\n",
            "Plancha                 3511.0    526650000    2.286715             99.994790\n",
            "Producto Desconocido       1.0      1200000    0.005210            100.000000\n",
            "\n",
            "Desempeño por categoría:\n",
            "           Cantidad  Valor Total\n",
            "Categoría                       \n",
            "Cocina      16751.0  10921300000\n",
            "Limpieza    10187.0   7533750000\n",
            "Confort      6513.0   4574600000\n",
            "Otros           1.0      1200000\n"
          ]
        }
      ]
    },
    {
      "cell_type": "markdown",
      "source": [
        "4.\n",
        "¿Debería la empresa reforzar su logística en ciertos meses?"
      ],
      "metadata": {
        "id": "iFvthOwxhhqn"
      }
    },
    {
      "cell_type": "code",
      "source": [
        "ventas_mensuales = df.groupby(['Año Compra', 'Mes Compra', 'Nombre Mes']).agg({\n",
        "    'ID Compra': 'count',\n",
        "    'Cantidad': 'sum',\n",
        "    'Valor Total': 'sum'\n",
        "}).reset_index()\n",
        "\n",
        "# Asegurar que los meses estén en orden cronológico\n",
        "meses_orden = {'January': 1, 'February': 2, 'March': 3, 'April': 4, 'May': 5, 'June': 6,\n",
        "               'July': 7, 'August': 8, 'September': 9, 'October': 10, 'November': 11, 'December': 12}\n",
        "ventas_mensuales['Orden_Mes'] = ventas_mensuales['Nombre Mes'].map(meses_orden)\n",
        "ventas_mensuales = ventas_mensuales.sort_values(['Año Compra', 'Orden_Mes'])\n",
        "\n",
        "print(\"Volumen de ventas mensual:\")\n",
        "print(ventas_mensuales[['Año Compra', 'Nombre Mes', 'ID Compra', 'Cantidad', 'Valor Total']])\n",
        "\n",
        "# Identificar picos de venta que requieren mayor logística\n",
        "promedio_cantidad = ventas_mensuales['Cantidad'].mean()\n",
        "picos_venta = ventas_mensuales[ventas_mensuales['Cantidad'] > promedio_cantidad * 1.5]\n",
        "\n",
        "print(\"\\nMeses con picos de venta (>150% del promedio):\")\n",
        "print(picos_venta[['Año Compra', 'Nombre Mes', 'Cantidad', 'Valor Total']])\n",
        "\n",
        "# Visualización de tendencias mensuales\n",
        "plt.figure(figsize=(12, 6))\n",
        "sns.lineplot(data=ventas_mensuales, x='Nombre Mes', y='Cantidad', marker='o', sort=False)\n",
        "plt.title('Cantidad de productos vendidos por mes')\n",
        "plt.xticks(rotation=45)\n",
        "plt.tight_layout()\n",
        "plt.savefig('ventas_mensuales.png')"
      ],
      "metadata": {
        "colab": {
          "base_uri": "https://localhost:8080/",
          "height": 1000
        },
        "id": "Sr_O9-8ghkXn",
        "outputId": "564aa860-99d8-4688-d9c3-32ebe58e93a8"
      },
      "execution_count": null,
      "outputs": [
        {
          "output_type": "stream",
          "name": "stdout",
          "text": [
            "Volumen de ventas mensual:\n",
            "    Año Compra Nombre Mes  ID Compra  Cantidad  Valor Total\n",
            "0         2022    January        344    1051.0    692700000\n",
            "1         2022   February        279     836.0    600200000\n",
            "2         2022      March        289     857.0    595350000\n",
            "3         2022      April        283     864.0    619750000\n",
            "4         2022        May        310     942.0    617450000\n",
            "5         2022       June        290     879.0    593000000\n",
            "6         2022       July        309     905.0    615350000\n",
            "7         2022     August        360    1030.0    730350000\n",
            "8         2022  September        298     843.0    598550000\n",
            "9         2022    October        326     980.0    693450000\n",
            "10        2022   November        345    1010.0    643550000\n",
            "11        2022   December        306     902.0    604850000\n",
            "12        2023    January        346    1052.0    714050000\n",
            "13        2023   February        284     872.0    646500000\n",
            "14        2023      March        294     817.0    561200000\n",
            "15        2023      April        309     912.0    583150000\n",
            "16        2023        May        296     838.0    588800000\n",
            "17        2023       June        306     955.0    651000000\n",
            "18        2023       July        294     878.0    660000000\n",
            "19        2023     August        357    1023.0    720250000\n",
            "20        2023  September        287     867.0    581000000\n",
            "21        2023    October        317     972.0    659400000\n",
            "22        2023   November        313     973.0    669150000\n",
            "23        2023   December        325     966.0    660800000\n",
            "24        2024    January        311     892.0    584750000\n",
            "25        2024   February        282     845.0    600100000\n",
            "26        2024      March        323     961.0    654050000\n",
            "27        2024      April        299     893.0    615250000\n",
            "28        2024        May        330    1002.0    642400000\n",
            "29        2024       June        322     970.0    690500000\n",
            "30        2024       July        335    1003.0    731500000\n",
            "31        2024     August        316     911.0    635700000\n",
            "32        2024  September        334    1003.0    629900000\n",
            "33        2024    October        301     917.0    650400000\n",
            "34        2024   November        310     949.0    716850000\n",
            "35        2024   December        302     882.0    579600000\n",
            "\n",
            "Meses con picos de venta (>150% del promedio):\n",
            "Empty DataFrame\n",
            "Columns: [Año Compra, Nombre Mes, Cantidad, Valor Total]\n",
            "Index: []\n"
          ]
        },
        {
          "output_type": "display_data",
          "data": {
            "text/plain": [
              "<Figure size 1200x600 with 1 Axes>"
            ],
            "image/png": "[encoded data removed]"
          },
          "metadata": {}
        }
      ]
    },
    {
      "cell_type": "markdown",
      "source": [
        "5. ¿Hay productos que parecen propensos a errores de registro?"
      ],
      "metadata": {
        "id": "R4MGqEQhh0Ry"
      }
    },
    {
      "cell_type": "code",
      "source": [
        "stats_productos = df.groupby('Electrodoméstico').agg({\n",
        "    'Valor Unitario': ['mean', 'std', 'min', 'max', 'count']\n",
        "})\n",
        "\n",
        "# Calcular coeficiente de variación para detectar alta dispersión\n",
        "stats_productos['CV'] = stats_productos[('Valor Unitario', 'std')] / stats_productos[('Valor Unitario', 'mean')]\n",
        "\n",
        "print(\"Análisis de variabilidad en precios unitarios:\")\n",
        "print(stats_productos.sort_values(('CV',), ascending=False))\n",
        "\n",
        "# Identificar registros sospechosos (precio unitario muy diferente al promedio)\n",
        "for producto in df['Electrodoméstico'].unique():\n",
        "    promedio = df[df['Electrodoméstico'] == producto]['Valor Unitario'].mean()\n",
        "    std = df[df['Electrodoméstico'] == producto]['Valor Unitario'].std()\n",
        "\n",
        "    # Definir límites (3 desviaciones estándar)\n",
        "    limite_inferior = max(0, promedio - 3*std)\n",
        "    limite_superior = promedio + 3*std\n",
        "\n",
        "    outliers = df[(df['Electrodoméstico'] == producto) &\n",
        "                 ((df['Valor Unitario'] < limite_inferior) |\n",
        "                  (df['Valor Unitario'] > limite_superior))]\n",
        "\n",
        "    if not outliers.empty:\n",
        "        print(f\"\\nPosibles errores de registro para {producto}:\")\n",
        "        print(outliers[['ID Compra', 'Electrodoméstico', 'Cantidad', 'Valor Unitario', 'Valor Total']])\n",
        "\n",
        "# Verificar inconsistencias entre Valor Unitario * Cantidad y Valor Total\n",
        "df['Valor_Calculado'] = df['Valor Unitario'] * df['Cantidad']\n",
        "df['Diferencia'] = abs(df['Valor_Calculado'] - df['Valor Total'])\n",
        "\n",
        "print(\"\\nRegistros con inconsistencias en cálculos de valor:\")\n",
        "inconsistencias = df[df['Diferencia'] > 1]  # Diferencia mayor a 1 para evitar problemas de redondeo\n",
        "print(inconsistencias[['ID Compra', 'Electrodoméstico', 'Cantidad', 'Valor Unitario', 'Valor Total', 'Valor_Calculado']])"
      ],
      "metadata": {
        "colab": {
          "base_uri": "https://localhost:8080/"
        },
        "id": "3B5d-CZsh3wK",
        "outputId": "79b935f9-e419-46a3-fd33-bb2815ceaaa3"
      },
      "execution_count": null,
      "outputs": [
        {
          "output_type": "stream",
          "name": "stdout",
          "text": [
            "Análisis de variabilidad en precios unitarios:\n",
            "                     Valor Unitario                                CV\n",
            "                               mean  std      min      max count     \n",
            "Electrodoméstico                                                     \n",
            "Aspiradora                 600000.0  0.0   600000   600000  1121  0.0\n",
            "Cafetera                   300000.0  0.0   300000   300000  1117  0.0\n",
            "Horno eléctrico            500000.0  0.0   500000   500000  1082  0.0\n",
            "Lavadora                  1500000.0  0.0  1500000  1500000  1126  0.0\n",
            "Licuadora                  250000.0  0.0   250000   250000  1151  0.0\n",
            "Microondas                 400000.0  0.0   400000   400000  1155  0.0\n",
            "Nevera                    1800000.0  0.0  1800000  1800000  1133  0.0\n",
            "Plancha                    150000.0  0.0   150000   150000  1168  0.0\n",
            "Televisor                 1200000.0  0.0  1200000  1200000  1086  0.0\n",
            "Ventilador                 200000.0  0.0   200000   200000  1092  0.0\n",
            "Producto Desconocido      1200000.0  NaN  1200000  1200000     1  NaN\n",
            "\n",
            "Registros con inconsistencias en cálculos de valor:\n",
            "Empty DataFrame\n",
            "Columns: [ID Compra, Electrodoméstico, Cantidad, Valor Unitario, Valor Total, Valor_Calculado]\n",
            "Index: []\n"
          ]
        }
      ]
    },
    {
      "cell_type": "markdown",
      "source": [
        "6. ¿Se puede usar esta información para proyecciones de stock?"
      ],
      "metadata": {
        "id": "5g1FW7zNiGR8"
      }
    },
    {
      "cell_type": "code",
      "source": [
        "ventas_temporales = df.groupby(['Año Compra', 'Mes Compra', 'Nombre Mes'])['Cantidad'].sum().reset_index()\n",
        "ventas_temporales['Fecha'] = pd.to_datetime(ventas_temporales['Año Compra'].astype(str) + '-' +\n",
        "                                           ventas_temporales['Mes Compra'].astype(str) + '-01')\n",
        "ventas_temporales = ventas_temporales.sort_values('Fecha')\n",
        "ventas_temporales.set_index('Fecha', inplace=True)\n",
        "\n",
        "# Análisis de estacionalidad (requiere al menos 2 años de datos)\n",
        "if len(ventas_temporales) >= 24:  # Verificar que haya suficientes datos\n",
        "    try:\n",
        "        resultado = seasonal_decompose(ventas_temporales['Cantidad'], model='multiplicative', period=12)\n",
        "        print(\"Patrón estacional detectado. Se pueden usar proyecciones estacionales.\")\n",
        "    except:\n",
        "        print(\"No se pudo realizar descomposición estacional. Posiblemente faltan datos.\")\n",
        "\n",
        "# Proyección simple para los próximos 3 meses\n",
        "# Para un dataset pequeño, usamos un enfoque simple\n",
        "if len(ventas_temporales) < 24:\n",
        "    media_movil = ventas_temporales['Cantidad'].rolling(window=3).mean()\n",
        "    proyeccion = media_movil.iloc[-1] if not np.isnan(media_movil.iloc[-1]) else ventas_temporales['Cantidad'].mean()\n",
        "    print(f\"\\nProyección simple para próximo mes: {round(proyeccion)} unidades\")\n",
        "else:\n",
        "    # Para dataset completo, usar modelo más sofisticado\n",
        "    try:\n",
        "        modelo = ExponentialSmoothing(ventas_temporales['Cantidad'],\n",
        "                                    seasonal_periods=12,\n",
        "                                    trend='add',\n",
        "                                    seasonal='add').fit()\n",
        "        pronostico = modelo.forecast(3)\n",
        "        print(\"\\nProyección para los próximos 3 meses:\")\n",
        "        print(pronostico)\n",
        "    except:\n",
        "        print(\"No se pudo generar un modelo de pronóstico. Revisa la calidad de los datos.\")\n",
        "\n",
        "# Análisis de rotación de inventario por producto\n",
        "ventas_producto = df.groupby('Electrodoméstico')['Cantidad'].sum().sort_values(ascending=False)\n",
        "print(\"\\nRotación de productos (cantidad total vendida):\")\n",
        "print(ventas_producto)\n",
        "\n",
        "# Calcular tasa de ventas diaria promedio\n",
        "# Primero convertir fechas a datetime\n",
        "df['Fecha Compra'] = pd.to_datetime(df['Fecha Compra'])\n",
        "dias_registrados = (df['Fecha Compra'].max() - df['Fecha Compra'].min()).days + 1\n",
        "\n",
        "tasa_diaria = df.groupby('Electrodoméstico')['Cantidad'].sum() / dias_registrados\n",
        "print(\"\\nTasa de venta diaria promedio por producto:\")\n",
        "print(tasa_diaria.sort_values(ascending=False))"
      ],
      "metadata": {
        "colab": {
          "base_uri": "https://localhost:8080/"
        },
        "id": "iDkisl7FiFdK",
        "outputId": "f8740f8a-d2a3-46be-b8a4-cf8158383b48"
      },
      "execution_count": null,
      "outputs": [
        {
          "output_type": "stream",
          "name": "stdout",
          "text": [
            "Patrón estacional detectado. Se pueden usar proyecciones estacionales.\n"
          ]
        },
        {
          "output_type": "stream",
          "name": "stderr",
          "text": [
            "/usr/local/lib/python3.11/dist-packages/statsmodels/tsa/base/tsa_model.py:473: ValueWarning: No frequency information was provided, so inferred frequency MS will be used.\n",
            "  self._init_dates(dates, freq)\n"
          ]
        },
        {
          "output_type": "stream",
          "name": "stdout",
          "text": [
            "\n",
            "Proyección para los próximos 3 meses:\n",
            "2025-01-01    1005.220340\n",
            "2025-02-01     860.852811\n",
            "2025-03-01     888.621785\n",
            "Freq: MS, dtype: float64\n",
            "\n",
            "Rotación de productos (cantidad total vendida):\n",
            "Electrodoméstico\n",
            "Plancha                 3511.0\n",
            "Licuadora               3440.0\n",
            "Nevera                  3395.0\n",
            "Microondas              3389.0\n",
            "Cafetera                3344.0\n",
            "Aspiradora              3341.0\n",
            "Lavadora                3335.0\n",
            "Televisor               3272.0\n",
            "Ventilador              3241.0\n",
            "Horno eléctrico         3183.0\n",
            "Producto Desconocido       1.0\n",
            "Name: Cantidad, dtype: float64\n",
            "\n",
            "Tasa de venta diaria promedio por producto:\n",
            "Electrodoméstico\n",
            "Plancha                 3.203467\n",
            "Licuadora               3.138686\n",
            "Nevera                  3.097628\n",
            "Microondas              3.092153\n",
            "Cafetera                3.051095\n",
            "Aspiradora              3.048358\n",
            "Lavadora                3.042883\n",
            "Televisor               2.985401\n",
            "Ventilador              2.957117\n",
            "Horno eléctrico         2.904197\n",
            "Producto Desconocido    0.000912\n",
            "Name: Cantidad, dtype: float64\n"
          ]
        }
      ]
    },
    {
      "cell_type": "markdown",
      "source": [
        "7. ¿Qué productos podrían formar parte de combos?"
      ],
      "metadata": {
        "id": "cINDQ5rOiIhg"
      }
    },
    {
      "cell_type": "code",
      "source": [
        "transacciones = df.groupby(['ID Compra', 'Electrodoméstico'])['Cantidad'].sum().unstack().fillna(0)\n",
        "transacciones_binarias = transacciones > 0\n",
        "\n",
        "# Aplicar algoritmo Apriori para encontrar conjuntos frecuentes\n",
        "itemsets_frecuentes = apriori(transacciones_binarias, min_support=0.01, use_colnames=True)\n",
        "\n",
        "# Extraer reglas de asociación\n",
        "reglas = association_rules(itemsets_frecuentes, metric=\"lift\", min_threshold=1.5)\n",
        "\n",
        "print(\"Reglas de asociación para combos potenciales:\")\n",
        "if not reglas.empty:\n",
        "    print(reglas[['antecedents', 'consequents', 'support', 'confidence', 'lift']].sort_values('lift', ascending=False))\n",
        "else:\n",
        "    print(\"No se encontraron asociaciones fuertes. Posiblemente se necesitan más datos.\")\n",
        "\n",
        "# Análisis alternativo: productos comprados juntos con más frecuencia\n",
        "pares_productos = []\n",
        "for _, grupo in df.groupby('ID Compra'):\n",
        "    productos = grupo['Electrodoméstico'].unique()\n",
        "    if len(productos) > 1:\n",
        "        for i in range(len(productos)):\n",
        "            for j in range(i+1, len(productos)):\n",
        "                pares_productos.append((productos[i], productos[j]))\n",
        "\n",
        "if pares_productos:\n",
        "    from collections import Counter\n",
        "    contador_pares = Counter(pares_productos)\n",
        "    print(\"\\nProductos comprados juntos con mayor frecuencia:\")\n",
        "    for par, frecuencia in contador_pares.most_common(10):\n",
        "        print(f\"{par[0]} + {par[1]}: {frecuencia} veces\")\n",
        "else:\n",
        "    print(\"\\nNo hay suficientes compras con múltiples productos para análisis.\")"
      ],
      "metadata": {
        "colab": {
          "base_uri": "https://localhost:8080/"
        },
        "id": "jQXB3U9piP0H",
        "outputId": "af38ac7c-735f-452f-bb24-a16407c0de31"
      },
      "execution_count": null,
      "outputs": [
        {
          "output_type": "stream",
          "name": "stdout",
          "text": [
            "Reglas de asociación para combos potenciales:\n",
            "No se encontraron asociaciones fuertes. Posiblemente se necesitan más datos.\n",
            "\n",
            "No hay suficientes compras con múltiples productos para análisis.\n"
          ]
        }
      ]
    },
    {
      "cell_type": "markdown",
      "source": [
        "8. ¿Dónde hay oportunidades de ventas cruzadas?"
      ],
      "metadata": {
        "id": "yJ53SxsyiMcQ"
      }
    },
    {
      "cell_type": "code",
      "source": [
        "matriz_categorias = df.pivot_table(\n",
        "    index='ID Compra',\n",
        "    columns='Categoría',\n",
        "    values='Cantidad',\n",
        "    aggfunc='sum',\n",
        "    fill_value=0\n",
        ")\n",
        "\n",
        "# Convertir a matriz binaria (compró o no compró)\n",
        "matriz_categorias_bin = matriz_categorias > 0\n",
        "\n",
        "# Calcular correlación entre categorías\n",
        "correlacion_categorias = matriz_categorias_bin.corr()\n",
        "print(\"Correlación entre categorías (oportunidades de venta cruzada):\")\n",
        "print(correlacion_categorias)\n",
        "\n",
        "# Identificar clientes que compraron una categoría pero no otra complementaria\n",
        "categorias = df['Categoría'].unique()\n",
        "for i, cat1 in enumerate(categorias):\n",
        "    for cat2 in categorias[i+1:]:\n",
        "        # Verificar si hay correlación positiva\n",
        "        if cat1 in correlacion_categorias.index and cat2 in correlacion_categorias.columns:\n",
        "            if correlacion_categorias.loc[cat1, cat2] > 0.2:  # Umbral de correlación\n",
        "                # Clientes que compraron cat1 pero no cat2\n",
        "                clientes_cat1 = df[df['Categoría'] == cat1]['Nombre'].unique()\n",
        "                clientes_cat1_sin_cat2 = []\n",
        "\n",
        "                for cliente in clientes_cat1:\n",
        "                    compras_cliente = df[df['Nombre'] == cliente]\n",
        "                    if cat1 in compras_cliente['Categoría'].values and cat2 not in compras_cliente['Categoría'].values:\n",
        "                        clientes_cat1_sin_cat2.append(cliente)\n",
        "\n",
        "                if clientes_cat1_sin_cat2:\n",
        "                    print(f\"\\nClientes que compraron {cat1} pero no {cat2} (potencial venta cruzada):\")\n",
        "                    print(clientes_cat1_sin_cat2[:10])  # Mostrar hasta 10 clientes\n",
        "\n",
        "# Productos complementarios basados en compras históricas\n",
        "print(\"\\nSugerencias de venta cruzada por producto:\")\n",
        "for producto in df['Electrodoméstico'].unique():\n",
        "    # Encontrar clientes que compraron este producto\n",
        "    clientes_producto = df[df['Electrodoméstico'] == producto]['Nombre'].unique()\n",
        "\n",
        "    # Encontrar qué otros productos compraron estos clientes\n",
        "    otros_productos = df[df['Nombre'].isin(clientes_producto) &\n",
        "                        (df['Electrodoméstico'] != producto)]\n",
        "\n",
        "    if not otros_productos.empty:\n",
        "        complementarios = otros_productos.groupby('Electrodoméstico')['ID Compra'].count().sort_values(ascending=False)\n",
        "        print(f\"\\nClientes que compraron {producto} también compraron:\")\n",
        "        print(complementarios.head(3))"
      ],
      "metadata": {
        "colab": {
          "base_uri": "https://localhost:8080/"
        },
        "id": "CpMMsMUojFbY",
        "outputId": "0b57396c-3c3d-451c-b0ad-524b8f674126"
      },
      "execution_count": null,
      "outputs": [
        {
          "output_type": "stream",
          "name": "stdout",
          "text": [
            "Correlación entre categorías (oportunidades de venta cruzada):\n",
            "Categoría    Cocina   Confort  Limpieza     Otros\n",
            "Categoría                                        \n",
            "Cocina     1.000000 -0.492391 -0.663555 -0.009473\n",
            "Confort   -0.492391  1.000000 -0.324178 -0.004628\n",
            "Limpieza  -0.663555 -0.324178  1.000000 -0.006237\n",
            "Otros     -0.009473 -0.004628 -0.006237  1.000000\n",
            "\n",
            "Sugerencias de venta cruzada por producto:\n",
            "\n",
            "Clientes que compraron Nevera también compraron:\n",
            "Electrodoméstico\n",
            "Licuadora     820\n",
            "Microondas    807\n",
            "Lavadora      803\n",
            "Name: ID Compra, dtype: int64\n",
            "\n",
            "Clientes que compraron Plancha también compraron:\n",
            "Electrodoméstico\n",
            "Microondas    838\n",
            "Licuadora     818\n",
            "Nevera        810\n",
            "Name: ID Compra, dtype: int64\n",
            "\n",
            "Clientes que compraron Horno eléctrico también compraron:\n",
            "Electrodoméstico\n",
            "Microondas    800\n",
            "Licuadora     800\n",
            "Nevera        797\n",
            "Name: ID Compra, dtype: int64\n",
            "\n",
            "Clientes que compraron Licuadora también compraron:\n",
            "Electrodoméstico\n",
            "Nevera      842\n",
            "Lavadora    826\n",
            "Plancha     825\n",
            "Name: ID Compra, dtype: int64\n",
            "\n",
            "Clientes que compraron Lavadora también compraron:\n",
            "Electrodoméstico\n",
            "Microondas    855\n",
            "Licuadora     847\n",
            "Plancha       831\n",
            "Name: ID Compra, dtype: int64\n",
            "\n",
            "Clientes que compraron Microondas también compraron:\n",
            "Electrodoméstico\n",
            "Plancha     872\n",
            "Lavadora    837\n",
            "Nevera      829\n",
            "Name: ID Compra, dtype: int64\n",
            "\n",
            "Clientes que compraron Ventilador también compraron:\n",
            "Electrodoméstico\n",
            "Licuadora     806\n",
            "Plancha       801\n",
            "Microondas    787\n",
            "Name: ID Compra, dtype: int64\n",
            "\n",
            "Clientes que compraron Producto Desconocido también compraron:\n",
            "Electrodoméstico\n",
            "Lavadora      2\n",
            "Televisor     2\n",
            "Ventilador    2\n",
            "Name: ID Compra, dtype: int64\n",
            "\n",
            "Clientes que compraron Aspiradora también compraron:\n",
            "Electrodoméstico\n",
            "Licuadora     841\n",
            "Plancha       831\n",
            "Microondas    821\n",
            "Name: ID Compra, dtype: int64\n",
            "\n",
            "Clientes que compraron Cafetera también compraron:\n",
            "Electrodoméstico\n",
            "Lavadora     812\n",
            "Plancha      809\n",
            "Licuadora    785\n",
            "Name: ID Compra, dtype: int64\n",
            "\n",
            "Clientes que compraron Televisor también compraron:\n",
            "Electrodoméstico\n",
            "Microondas    807\n",
            "Aspiradora    803\n",
            "Plancha       801\n",
            "Name: ID Compra, dtype: int64\n"
          ]
        }
      ]
    },
    {
      "cell_type": "markdown",
      "source": [
        "9. ¿Qué franjas horarias podrían usarse para promociones digitales?"
      ],
      "metadata": {
        "id": "hrE2bDsjjIrJ"
      }
    },
    {
      "cell_type": "code",
      "source": [
        "df['Hora'] = pd.to_numeric(df['Hora'])  # Asegurar que sea numérico\n",
        "ventas_por_hora = df.groupby('Hora').agg({\n",
        "    'ID Compra': 'count',\n",
        "    'Valor Total': 'sum'\n",
        "})\n",
        "\n",
        "print(\"Análisis de ventas por hora del día:\")\n",
        "print(ventas_por_hora.sort_values('ID Compra', ascending=False))\n",
        "\n",
        "# Definir franjas horarias\n",
        "df['Franja'] = pd.cut(\n",
        "    df['Hora'],\n",
        "    bins=[0, 6, 12, 18, 24],\n",
        "    labels=['Madrugada (0-6h)', 'Mañana (6-12h)', 'Tarde (12-18h)', 'Noche (18-24h)']\n",
        ")\n",
        "\n",
        "ventas_por_franja = df.groupby('Franja').agg({\n",
        "    'ID Compra': 'count',\n",
        "    'Valor Total': 'sum'\n",
        "})\n",
        "\n",
        "print(\"\\nAnálisis de ventas por franja horaria:\")\n",
        "print(ventas_por_franja)\n",
        "\n",
        "# Análisis más detallado por categoría y hora\n",
        "ventas_categoria_hora = df.groupby(['Categoría', 'Hora']).agg({\n",
        "    'ID Compra': 'count',\n",
        "    'Valor Total': 'sum'\n",
        "}).reset_index()\n",
        "\n",
        "print(\"\\nMejores horas por categoría (top 3 para cada categoría):\")\n",
        "for categoria in df['Categoría'].unique():\n",
        "    datos_categoria = ventas_categoria_hora[ventas_categoria_hora['Categoría'] == categoria]\n",
        "    top_horas = datos_categoria.sort_values('ID Compra', ascending=False).head(3)\n",
        "    print(f\"\\n{categoria}:\")\n",
        "    print(top_horas[['Hora', 'ID Compra', 'Valor Total']])\n",
        "\n",
        "# Visualización (para dataset completo)\n",
        "plt.figure(figsize=(12, 6))\n",
        "sns.barplot(x=ventas_por_hora.index, y=ventas_por_hora['ID Compra'])\n",
        "plt.title('Compras por hora del día')\n",
        "plt.xlabel('Hora')\n",
        "plt.ylabel('Número de compras')\n",
        "plt.xticks(rotation=0)\n",
        "plt.tight_layout()\n",
        "plt.savefig('compras_por_hora.png')"
      ],
      "metadata": {
        "colab": {
          "base_uri": "https://localhost:8080/",
          "height": 1000
        },
        "id": "nmv6qSDKjM_m",
        "outputId": "403df333-84e0-4d92-f7d9-46fcd5c3a669"
      },
      "execution_count": null,
      "outputs": [
        {
          "output_type": "stream",
          "name": "stdout",
          "text": [
            "Análisis de ventas por hora del día:\n",
            "      ID Compra  Valor Total\n",
            "Hora                        \n",
            "12          511   1114550000\n",
            "17          505   1132750000\n",
            "7           492   1043450000\n",
            "19          485   1006700000\n",
            "22          484   1026200000\n",
            "16          482    908250000\n",
            "21          482    989850000\n",
            "1           475    908050000\n",
            "3           475    949650000\n",
            "10          472    981400000\n",
            "20          470   1017400000\n",
            "5           469    957400000\n",
            "13          467    906350000\n",
            "8           464    946200000\n",
            "11          462   1032350000\n",
            "0           459    909400000\n",
            "15          459    885400000\n",
            "23          457   1004050000\n",
            "6           457    958500000\n",
            "2           456    814500000\n",
            "9           456    917250000\n",
            "14          439    926700000\n",
            "18          432    848200000\n",
            "4           422    846300000\n",
            "\n",
            "Análisis de ventas por franja horaria:\n",
            "                  ID Compra  Valor Total\n",
            "Franja                                  \n",
            "Madrugada (0-6h)       2754   5434400000\n",
            "Mañana (6-12h)         2857   6035200000\n",
            "Tarde (12-18h)         2784   5607650000\n",
            "Noche (18-24h)         2378   5044200000\n",
            "\n",
            "Mejores horas por categoría (top 3 para cada categoría):\n",
            "\n",
            "Cocina:\n",
            "    Hora  ID Compra  Valor Total\n",
            "12    12        267    528200000\n",
            "17    17        262    597700000\n",
            "19    19        256    508450000\n",
            "\n",
            "Limpieza:\n",
            "    Hora  ID Compra  Valor Total\n",
            "60    12        163    408150000\n",
            "62    14        159    362100000\n",
            "70    22        156    385650000\n",
            "\n",
            "Confort:\n",
            "    Hora  ID Compra  Valor Total\n",
            "31     7        114    238800000\n",
            "47    23        108    229400000\n",
            "44    20        102    221600000\n",
            "\n",
            "Otros:\n",
            "    Hora  ID Compra  Valor Total\n",
            "72    14          1      1200000\n"
          ]
        },
        {
          "output_type": "stream",
          "name": "stderr",
          "text": [
            "<ipython-input-235-f6724fed604a>:17: FutureWarning: The default of observed=False is deprecated and will be changed to True in a future version of pandas. Pass observed=False to retain current behavior or observed=True to adopt the future default and silence this warning.\n",
            "  ventas_por_franja = df.groupby('Franja').agg({\n"
          ]
        },
        {
          "output_type": "display_data",
          "data": {
            "text/plain": [
              "<Figure size 1200x600 with 1 Axes>"
            ],
            "image/png": "[encoded data removed]"
          },
          "metadata": {}
        }
      ]
    },
    {
      "cell_type": "markdown",
      "source": [
        "10. ¿Se podrían automatizar alertas para compras inusuales?"
      ],
      "metadata": {
        "id": "GGACXv7bjNgc"
      }
    },
    {
      "cell_type": "code",
      "source": [
        "q1 = df['Cantidad'].quantile(0.25)\n",
        "q3 = df['Cantidad'].quantile(0.75)\n",
        "iqr = q3 - q1\n",
        "limite_superior_cantidad = q3 + 1.5 * iqr\n",
        "\n",
        "compras_inusuales_cantidad = df[df['Cantidad'] > limite_superior_cantidad]\n",
        "print(\"Compras inusuales por cantidad:\")\n",
        "print(compras_inusuales_cantidad[['ID Compra', 'Nombre', 'Apellido', 'Electrodoméstico', 'Cantidad', 'Valor Total']])\n",
        "\n",
        "# Detectar compras inusuales por valor\n",
        "q1_valor = df['Valor Total'].quantile(0.25)\n",
        "q3_valor = df['Valor Total'].quantile(0.75)\n",
        "iqr_valor = q3_valor - q1_valor\n",
        "limite_superior_valor = q3_valor + 1.5 * iqr_valor\n",
        "\n",
        "compras_inusuales_valor = df[df['Valor Total'] > limite_superior_valor]\n",
        "print(\"\\nCompras inusuales por valor total:\")\n",
        "print(compras_inusuales_valor[['ID Compra', 'Nombre', 'Apellido', 'Electrodoméstico', 'Cantidad', 'Valor Total']])\n",
        "\n",
        "# Detectar patrones inusuales por cliente\n",
        "# Calcular estadísticas de compra por cliente\n",
        "estadisticas_cliente = df.groupby(['Nombre', 'Apellido']).agg({\n",
        "    'Valor Total': ['mean', 'std', 'max'],\n",
        "    'Cantidad': ['mean', 'std', 'max']\n",
        "})\n",
        "\n",
        "# Implementar un sistema de puntuación para detectar anomalías\n",
        "def calcular_score_anomalia(cliente_row, cliente_stats):\n",
        "    nombre, apellido = cliente_row['Nombre'], cliente_row['Apellido']\n",
        "    valor = cliente_row['Valor Total']\n",
        "    cantidad = cliente_row['Cantidad']\n",
        "\n",
        "    # Si no hay estadísticas previas, considerar como potencial anomalía\n",
        "    if (nombre, apellido) not in cliente_stats.index:\n",
        "        return 5\n",
        "\n",
        "    stats = cliente_stats.loc[(nombre, apellido)]\n",
        "\n",
        "    # Calcular desviaciones\n",
        "    valor_mean, valor_std = stats[('Valor Total', 'mean')], stats[('Valor Total', 'std')]\n",
        "    cant_mean, cant_std = stats[('Cantidad', 'mean')], stats[('Cantidad', 'std')]\n",
        "\n",
        "    # Evitar división por cero\n",
        "    valor_std = max(valor_std, valor_mean * 0.1)\n",
        "    cant_std = max(cant_std, cant_mean * 0.1)\n",
        "\n",
        "    z_valor = (valor - valor_mean) / valor_std\n",
        "    z_cant = (cantidad - cant_mean) / cant_std\n",
        "\n",
        "    # Calcular score de anomalía\n",
        "    return max(abs(z_valor), abs(z_cant))\n",
        "\n",
        "# Calcular score para cada compra\n",
        "scores_anomalia = []\n",
        "for _, row in df.iterrows():\n",
        "    score = calcular_score_anomalia(row, estadisticas_cliente)\n",
        "    scores_anomalia.append(score)\n",
        "\n",
        "df['Score_Anomalia'] = scores_anomalia\n",
        "\n",
        "# Identificar compras con alto score de anomalía\n",
        "compras_anomalas = df[df['Score_Anomalia'] > 3].sort_values('Score_Anomalia', ascending=False)\n",
        "\n",
        "print(\"\\nCompras potencialmente anómalas (por patrón de cliente):\")\n",
        "print(compras_anomalas[['ID Compra', 'Nombre', 'Apellido', 'Electrodoméstico',\n",
        "                         'Cantidad', 'Valor Total', 'Score_Anomalia']].head(10))\n",
        "\n",
        "print(\"\\nPosibles alertas a implementar:\")\n",
        "print(\"1. Alertas por compras con cantidad inusualmente alta\")\n",
        "print(\"2. Alertas por compras con valor total inusualmente alto\")\n",
        "print(\"3. Alertas por cambios drásticos en patrones de compra de un cliente\")\n",
        "print(\"4. Alertas por múltiples compras del mismo producto en un período corto\")\n",
        "print(\"5. Alertas por compras fuera del horario habitual del cliente\")"
      ],
      "metadata": {
        "colab": {
          "base_uri": "https://localhost:8080/"
        },
        "id": "SJnzidmDjRgg",
        "outputId": "f96cf8f0-159f-4e43-d787-9f54626de7da"
      },
      "execution_count": null,
      "outputs": [
        {
          "output_type": "stream",
          "name": "stdout",
          "text": [
            "Compras inusuales por cantidad:\n",
            "Empty DataFrame\n",
            "Columns: [ID Compra, Nombre, Apellido, Electrodoméstico, Cantidad, Valor Total]\n",
            "Index: []\n",
            "\n",
            "Compras inusuales por valor total:\n",
            "      ID Compra     Nombre Apellido Electrodoméstico  Cantidad  Valor Total\n",
            "0      CL-00001     Marcia    Parra           Nevera       5.0      9000000\n",
            "4      CL-00005   Ambrosio     Prat         Lavadora       5.0      7500000\n",
            "5      CL-00006     Roldán    Elías           Nevera       5.0      9000000\n",
            "20     CL-00021   Florinda    Cases        Televisor       5.0      6000000\n",
            "22     CL-00023     Salomé      Ros           Nevera       5.0      9000000\n",
            "...         ...        ...      ...              ...       ...          ...\n",
            "11199  CL-11200      Aarón   Peláez           Nevera       4.0      7200000\n",
            "11209  CL-11210       Goyo    Plana           Nevera       3.0      5400000\n",
            "11211  CL-11212      Maite  Torrent           Nevera       4.0      7200000\n",
            "11212  CL-11213  Sebastián  Alcalde         Lavadora       5.0      7500000\n",
            "11233  CL-11234     Isidro    Duran        Televisor       5.0      6000000\n",
            "\n",
            "[1322 rows x 6 columns]\n",
            "\n",
            "Compras potencialmente anómalas (por patrón de cliente):\n",
            "Empty DataFrame\n",
            "Columns: [ID Compra, Nombre, Apellido, Electrodoméstico, Cantidad, Valor Total, Score_Anomalia]\n",
            "Index: []\n",
            "\n",
            "Posibles alertas a implementar:\n",
            "1. Alertas por compras con cantidad inusualmente alta\n",
            "2. Alertas por compras con valor total inusualmente alto\n",
            "3. Alertas por cambios drásticos en patrones de compra de un cliente\n",
            "4. Alertas por múltiples compras del mismo producto en un período corto\n",
            "5. Alertas por compras fuera del horario habitual del cliente\n"
          ]
        }
      ]
    }
  ]
}