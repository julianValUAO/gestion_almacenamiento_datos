{
  "nbformat": 4,
  "nbformat_minor": 0,
  "metadata": {
    "colab": {
      "provenance": []
    },
    "kernelspec": {
      "name": "python3",
      "display_name": "Python 3"
    },
    "language_info": {
      "name": "python"
    }
  },
  "cells": [
    {
      "cell_type": "markdown",
      "source": [
        "Información turistica - Secretaría de Turismo\n",
        "\n",
        "\n"
      ],
      "metadata": {
        "id": "9Uvqwr2lr3IR"
      }
    },
    {
      "cell_type": "code",
      "source": [
        "# Montar Google Drive\n",
        "from google.colab import drive\n",
        "drive.mount('/content/drive')"
      ],
      "metadata": {
        "colab": {
          "base_uri": "https://localhost:8080/"
        },
        "id": "3vViF7swtWCz",
        "outputId": "0f4b6239-09bd-4654-fbf0-7c22be2c4cef"
      },
      "execution_count": 9,
      "outputs": [
        {
          "output_type": "stream",
          "name": "stdout",
          "text": [
            "Drive already mounted at /content/drive; to attempt to forcibly remount, call drive.mount(\"/content/drive\", force_remount=True).\n"
          ]
        }
      ]
    },
    {
      "cell_type": "code",
      "source": [
        "#Rutas de archivos .csv y .xlsx\n",
        "ruta_archivo ='/content/drive/MyDrive/Especialización/datos.csv'\n",
        "ruta_excel = '/content/drive/MyDrive/Especialización/datos.xlsx'"
      ],
      "metadata": {
        "id": "MJ1eln4BtYfx"
      },
      "execution_count": 10,
      "outputs": []
    },
    {
      "cell_type": "code",
      "source": [
        "import pandas as pd\n",
        "import os\n",
        "\n",
        "def limpiar_base_de_datos(archivo_excel, hoja_origen, archivo_salida, hoja_salida='Datos_Limpiados'):\n",
        "    try:\n",
        "        # Cargar datos desde un archivo Excel\n",
        "        df = pd.read_excel(archivo_excel, sheet_name=hoja_origen)\n",
        "\n",
        "        # Renombrar columnas eliminando espacios en blanco\n",
        "        df.columns = df.columns.str.strip()\n",
        "\n",
        "        # Eliminar filas duplicadas\n",
        "        df.drop_duplicates(inplace=True)\n",
        "\n",
        "        # Eliminar filas con valores nulos en columnas clave (ajusta según tu base de datos)\n",
        "        columnas_clave = ['Nombre', 'ID', 'Fecha']  # Modifica según tus necesidades\n",
        "        df.dropna(subset=[col for col in columnas_clave if col in df.columns], inplace=True)\n",
        "\n",
        "        # Convertir tipos de datos si las columnas existen\n",
        "        if 'Fecha' in df.columns:\n",
        "            df['Fecha'] = pd.to_datetime(df['Fecha'], errors='coerce')  # Convertir a formato fecha\n",
        "        if 'ID' in df.columns:\n",
        "            df['ID'] = pd.to_numeric(df['ID'], errors='coerce')  # Convertir a número\n",
        "\n",
        "        # Eliminar filas con valores NaN después de conversiones\n",
        "        df.dropna(inplace=True)\n",
        "\n",
        "        # Guardar el DataFrame limpio en un nuevo archivo Excel\n",
        "        with pd.ExcelWriter(archivo_salida, engine='openpyxl') as writer:\n",
        "            df.to_excel(writer, sheet_name=hoja_salida, index=False)\n",
        "\n",
        "        print(f\"Datos limpiados y guardados en {archivo_salida}\")\n",
        "\n",
        "    except FileNotFoundError:\n",
        "        print(f\"Error: No se encontró el archivo {archivo_excel}. Verifica la ruta.\")\n",
        "    except Exception as e:\n",
        "        print(f\"Ocurrió un error: {e}\")\n",
        "\n",
        "# Definir rutas y nombres de hojas\n",
        "ruta_excel = '/content/drive/MyDrive/Especialización/datos.xlsx'\n",
        "hoja_origen = 'Hoja1'  # Ajusta según el nombre de tu hoja de cálculo\n",
        "ruta_salida = '/content/drive/MyDrive/Especialización/datos_limpiados.xlsx'\n",
        "\n",
        "# Verificar si el archivo Excel existe antes de ejecutarlo\n",
        "if os.path.exists(ruta_excel):\n",
        "    limpiar_base_de_datos(ruta_excel, hoja_origen, ruta_salida)\n",
        "else:\n",
        "    print(\"El archivo datos.xlsx no existe en la ruta especificada.\")\n"
      ],
      "metadata": {
        "colab": {
          "base_uri": "https://localhost:8080/"
        },
        "id": "IkPiMbdpr98r",
        "outputId": "6bff4428-4fa7-4165-83f6-e2e411290525"
      },
      "execution_count": 11,
      "outputs": [
        {
          "output_type": "stream",
          "name": "stdout",
          "text": [
            "Datos limpiados y guardados en /content/drive/MyDrive/Especialización/datos_limpiados.xlsx\n"
          ]
        }
      ]
    }
  ]
}